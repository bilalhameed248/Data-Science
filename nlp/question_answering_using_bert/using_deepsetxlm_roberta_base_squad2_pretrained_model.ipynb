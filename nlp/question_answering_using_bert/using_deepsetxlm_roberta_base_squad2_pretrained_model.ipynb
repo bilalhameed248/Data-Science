{
 "cells": [
  {
   "cell_type": "markdown",
   "id": "4b3e7ec4",
   "metadata": {},
   "source": [
    "## Installing  Librries"
   ]
  },
  {
   "cell_type": "code",
   "execution_count": null,
   "id": "d2451ba7",
   "metadata": {},
   "outputs": [],
   "source": [
    "# pip install transformers\n",
    "# pip install sentencepiece"
   ]
  },
  {
   "cell_type": "markdown",
   "id": "afd4eb87",
   "metadata": {},
   "source": [
    "## Importing Libraries"
   ]
  },
  {
   "cell_type": "code",
   "execution_count": 34,
   "id": "ad302001",
   "metadata": {},
   "outputs": [],
   "source": [
    "from transformers.pipelines import pipeline\n",
    "from transformers import AutoModelForQuestionAnswering\n",
    "from transformers import AutoTokenizer\n",
    "import os"
   ]
  },
  {
   "cell_type": "markdown",
   "id": "0b40b7f0",
   "metadata": {},
   "source": [
    "## Get Current Working Directory"
   ]
  },
  {
   "cell_type": "code",
   "execution_count": 35,
   "id": "72ca2b4f",
   "metadata": {},
   "outputs": [],
   "source": [
    "my_dir = os.getcwd() + '/'"
   ]
  },
  {
   "cell_type": "markdown",
   "id": "bbd89991",
   "metadata": {},
   "source": [
    "\"xlm-roberta-base-squad2\" is a pre-trained multilingual model that outperforms multiligual BERT. One reason for this is that XLM-R was trained using a lot more data."
   ]
  },
  {
   "cell_type": "markdown",
   "id": "0f73ba7e",
   "metadata": {},
   "source": [
    "\n",
    "\n",
    "## Downlaoding deepset/xlm-roberta-base-squad2 Tokenizer"
   ]
  },
  {
   "cell_type": "markdown",
   "id": "2299c0c7",
   "metadata": {},
   "source": [
    "Downlaod and save the Tokenizer to 'save_tokenizer' dir "
   ]
  },
  {
   "cell_type": "code",
   "execution_count": 36,
   "id": "b63b86b8",
   "metadata": {},
   "outputs": [],
   "source": [
    "# tokenizer = AutoTokenizer.from_pretrained('deepset/xlm-roberta-base-squad2')\n",
    "# tokenizer.save_pretrained(my_dir+\"save_tokenizer\")"
   ]
  },
  {
   "cell_type": "markdown",
   "id": "a7a0d0db",
   "metadata": {},
   "source": [
    "## Loading Tokenizer from save directory"
   ]
  },
  {
   "cell_type": "code",
   "execution_count": 37,
   "id": "321a6389",
   "metadata": {},
   "outputs": [],
   "source": [
    "tokenizer = AutoTokenizer.from_pretrained('./save_tokenizer/')"
   ]
  },
  {
   "cell_type": "markdown",
   "id": "2b971078",
   "metadata": {},
   "source": [
    "## Downloading 'deepset/xlm-roberta-base-squad2' Model For Question Answering"
   ]
  },
  {
   "cell_type": "code",
   "execution_count": 38,
   "id": "cdfb7a4e",
   "metadata": {},
   "outputs": [],
   "source": [
    "# model = AutoModelForQuestionAnswering.from_pretrained('deepset/xlm-roberta-base-squad2')"
   ]
  },
  {
   "cell_type": "markdown",
   "id": "58f252dd",
   "metadata": {},
   "source": [
    "## Save the Model to 'save_model' directory"
   ]
  },
  {
   "cell_type": "code",
   "execution_count": 39,
   "id": "f3a002be",
   "metadata": {},
   "outputs": [],
   "source": [
    "# model.save_pretrained(my_dir+\"save_model\")"
   ]
  },
  {
   "cell_type": "markdown",
   "id": "796d1561",
   "metadata": {},
   "source": [
    "## Loading Model from Save Directory"
   ]
  },
  {
   "cell_type": "code",
   "execution_count": 41,
   "id": "96a146e9",
   "metadata": {},
   "outputs": [],
   "source": [
    "model = AutoModelForQuestionAnswering.from_pretrained(\"./save_model/\")"
   ]
  },
  {
   "cell_type": "markdown",
   "id": "aa9671c3",
   "metadata": {},
   "source": [
    "Creating Pipeline Object using save model and Tokenizer"
   ]
  },
  {
   "cell_type": "code",
   "execution_count": 42,
   "id": "58968de8",
   "metadata": {},
   "outputs": [],
   "source": [
    "nlp = pipeline('question-answering', model=model, tokenizer=tokenizer)"
   ]
  },
  {
   "cell_type": "code",
   "execution_count": 55,
   "id": "45302bd5",
   "metadata": {},
   "outputs": [
    {
     "name": "stdout",
     "output_type": "stream",
     "text": [
      "{'score': 0.5273693203926086, 'start': 11, 'end': 30, 'answer': ' a form of security'}\n"
     ]
    }
   ],
   "source": [
    "context=\"\"\"\n",
    "A stock is a form of security that indicates the holder has proportionate ownership in the issuing \n",
    "corporation and is sold predominantly on stock exchanges. Corporations issue stock to raise funds to \n",
    "operate their businesses. There are two main types of stock: common and preferred.\n",
    "\"\"\"\n",
    "QA_input = {\n",
    "    'question': 'What is Stock?',\n",
    "    'context': context\n",
    "}\n",
    "result = nlp(QA_input)\n",
    "print(result)"
   ]
  },
  {
   "cell_type": "code",
   "execution_count": 44,
   "id": "31c5bc28",
   "metadata": {},
   "outputs": [
    {
     "name": "stdout",
     "output_type": "stream",
     "text": [
      "{'score': 0.13367962837219238, 'start': 10, 'end': 36, 'answer': ' a fixed-income instrument'}\n"
     ]
    }
   ],
   "source": [
    "context=\"\"\"\n",
    "A bond is a fixed-income instrument that represents a loan made by an investor to a borrower \n",
    "(typically corporate or governmental). A bond could be thought of as an I.O.U. between the lender\n",
    "and borrower that includes the details of the loan and its payments. Bonds are used by companies,\n",
    "municipalities, states, and sovereign governments to finance projects and operations. Owners of bonds \n",
    "are debtholders, or creditors, of the issuer.\n",
    "\"\"\"\n",
    "QA_input = {\n",
    "    'question': 'What is Bond?',\n",
    "    'context': context\n",
    "}\n",
    "result = nlp(QA_input)\n",
    "print(result)"
   ]
  },
  {
   "cell_type": "code",
   "execution_count": 53,
   "id": "1fa4288b",
   "metadata": {},
   "outputs": [
    {
     "name": "stdout",
     "output_type": "stream",
     "text": [
      "Question: What is Bond?\n",
      "\n",
      "Ans:   a loan from you \n",
      "to a company or government.\n",
      "\n",
      "Question: What is Stock?\n",
      "\n",
      "Ans:   give you partial ownership in a corporation,\n",
      "\n",
      "Question: What is difference between stock and bond?\n",
      "\n",
      "Ans:   how they generate profit:\n"
     ]
    }
   ],
   "source": [
    "context=\"\"\"\n",
    "Stocks give you partial ownership in a corporation, while bonds are a loan from you \n",
    "to a company or government. The biggest difference between them is how they generate profit: \n",
    "stocks must appreciate in value and be sold later on the stock market, while most bonds pay\n",
    "fixed interest over time.\"\"\"\n",
    "QA_input = {\n",
    "    'question': 'What is Bond?',\n",
    "    'context': context\n",
    "}\n",
    "result = nlp(QA_input)\n",
    "print(\"Question: What is Bond?\")\n",
    "print(\"\\nAns: \",result['answer'])\n",
    "\n",
    "\n",
    "QA_input = {\n",
    "    'question': 'What is Stock?',\n",
    "    'context': context\n",
    "}\n",
    "result = nlp(QA_input)\n",
    "print(\"\\nQuestion: What is Stock?\")\n",
    "print(\"\\nAns: \",result['answer'])\n",
    "\n",
    "QA_input = {\n",
    "    'question': 'What is difference between stock and bond?',\n",
    "    'context': context\n",
    "}\n",
    "result = nlp(QA_input)\n",
    "print(\"\\nQuestion: What is difference between stock and bond?\")\n",
    "print(\"\\nAns: \",result['answer'])"
   ]
  },
  {
   "cell_type": "code",
   "execution_count": null,
   "id": "3edd4b0c",
   "metadata": {},
   "outputs": [],
   "source": []
  }
 ],
 "metadata": {
  "kernelspec": {
   "display_name": "Python 3 (ipykernel)",
   "language": "python",
   "name": "python3"
  },
  "language_info": {
   "codemirror_mode": {
    "name": "ipython",
    "version": 3
   },
   "file_extension": ".py",
   "mimetype": "text/x-python",
   "name": "python",
   "nbconvert_exporter": "python",
   "pygments_lexer": "ipython3",
   "version": "3.7.11"
  }
 },
 "nbformat": 4,
 "nbformat_minor": 5
}
