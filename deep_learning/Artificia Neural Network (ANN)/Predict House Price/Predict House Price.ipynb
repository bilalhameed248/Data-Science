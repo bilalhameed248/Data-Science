{
 "cells": [
  {
   "cell_type": "code",
   "execution_count": 1,
   "metadata": {},
   "outputs": [
    {
     "name": "stderr",
     "output_type": "stream",
     "text": [
      "Using TensorFlow backend.\n"
     ]
    }
   ],
   "source": [
    "import numpy as np\n",
    "import pandas as pd\n",
    "from sklearn import preprocessing\n",
    "from sklearn.model_selection import train_test_split\n",
    "from keras.models import Sequential\n",
    "from keras.layers import Dense\n",
    "import matplotlib.pyplot as plt\n",
    "from keras.layers import Dropout\n",
    "from keras import regularizers"
   ]
  },
  {
   "cell_type": "code",
   "execution_count": 2,
   "metadata": {},
   "outputs": [
    {
     "data": {
      "text/html": [
       "<div>\n",
       "<style scoped>\n",
       "    .dataframe tbody tr th:only-of-type {\n",
       "        vertical-align: middle;\n",
       "    }\n",
       "\n",
       "    .dataframe tbody tr th {\n",
       "        vertical-align: top;\n",
       "    }\n",
       "\n",
       "    .dataframe thead th {\n",
       "        text-align: right;\n",
       "    }\n",
       "</style>\n",
       "<table border=\"1\" class=\"dataframe\">\n",
       "  <thead>\n",
       "    <tr style=\"text-align: right;\">\n",
       "      <th></th>\n",
       "      <th>LotArea</th>\n",
       "      <th>OverallQual</th>\n",
       "      <th>OverallCond</th>\n",
       "      <th>TotalBsmtSF</th>\n",
       "      <th>FullBath</th>\n",
       "      <th>HalfBath</th>\n",
       "      <th>BedroomAbvGr</th>\n",
       "      <th>TotRmsAbvGrd</th>\n",
       "      <th>Fireplaces</th>\n",
       "      <th>GarageArea</th>\n",
       "      <th>AboveMedianPrice</th>\n",
       "    </tr>\n",
       "  </thead>\n",
       "  <tbody>\n",
       "    <tr>\n",
       "      <th>0</th>\n",
       "      <td>8450.0</td>\n",
       "      <td>7.0</td>\n",
       "      <td>5.0</td>\n",
       "      <td>856.0</td>\n",
       "      <td>2.0</td>\n",
       "      <td>1.0</td>\n",
       "      <td>3.0</td>\n",
       "      <td>8.0</td>\n",
       "      <td>0.0</td>\n",
       "      <td>548.0</td>\n",
       "      <td>1.0</td>\n",
       "    </tr>\n",
       "    <tr>\n",
       "      <th>1</th>\n",
       "      <td>9600.0</td>\n",
       "      <td>6.0</td>\n",
       "      <td>8.0</td>\n",
       "      <td>1262.0</td>\n",
       "      <td>2.0</td>\n",
       "      <td>0.0</td>\n",
       "      <td>3.0</td>\n",
       "      <td>6.0</td>\n",
       "      <td>1.0</td>\n",
       "      <td>460.0</td>\n",
       "      <td>1.0</td>\n",
       "    </tr>\n",
       "    <tr>\n",
       "      <th>2</th>\n",
       "      <td>11250.0</td>\n",
       "      <td>7.0</td>\n",
       "      <td>5.0</td>\n",
       "      <td>920.0</td>\n",
       "      <td>2.0</td>\n",
       "      <td>1.0</td>\n",
       "      <td>3.0</td>\n",
       "      <td>6.0</td>\n",
       "      <td>1.0</td>\n",
       "      <td>608.0</td>\n",
       "      <td>1.0</td>\n",
       "    </tr>\n",
       "    <tr>\n",
       "      <th>3</th>\n",
       "      <td>9550.0</td>\n",
       "      <td>7.0</td>\n",
       "      <td>5.0</td>\n",
       "      <td>756.0</td>\n",
       "      <td>1.0</td>\n",
       "      <td>0.0</td>\n",
       "      <td>3.0</td>\n",
       "      <td>7.0</td>\n",
       "      <td>1.0</td>\n",
       "      <td>642.0</td>\n",
       "      <td>0.0</td>\n",
       "    </tr>\n",
       "    <tr>\n",
       "      <th>4</th>\n",
       "      <td>14260.0</td>\n",
       "      <td>8.0</td>\n",
       "      <td>5.0</td>\n",
       "      <td>1145.0</td>\n",
       "      <td>2.0</td>\n",
       "      <td>1.0</td>\n",
       "      <td>4.0</td>\n",
       "      <td>9.0</td>\n",
       "      <td>1.0</td>\n",
       "      <td>836.0</td>\n",
       "      <td>1.0</td>\n",
       "    </tr>\n",
       "    <tr>\n",
       "      <th>5</th>\n",
       "      <td>14115.0</td>\n",
       "      <td>5.0</td>\n",
       "      <td>5.0</td>\n",
       "      <td>796.0</td>\n",
       "      <td>1.0</td>\n",
       "      <td>1.0</td>\n",
       "      <td>1.0</td>\n",
       "      <td>5.0</td>\n",
       "      <td>0.0</td>\n",
       "      <td>480.0</td>\n",
       "      <td>0.0</td>\n",
       "    </tr>\n",
       "    <tr>\n",
       "      <th>6</th>\n",
       "      <td>10084.0</td>\n",
       "      <td>8.0</td>\n",
       "      <td>5.0</td>\n",
       "      <td>1686.0</td>\n",
       "      <td>2.0</td>\n",
       "      <td>0.0</td>\n",
       "      <td>3.0</td>\n",
       "      <td>7.0</td>\n",
       "      <td>1.0</td>\n",
       "      <td>636.0</td>\n",
       "      <td>1.0</td>\n",
       "    </tr>\n",
       "    <tr>\n",
       "      <th>7</th>\n",
       "      <td>10382.0</td>\n",
       "      <td>7.0</td>\n",
       "      <td>6.0</td>\n",
       "      <td>1107.0</td>\n",
       "      <td>2.0</td>\n",
       "      <td>1.0</td>\n",
       "      <td>3.0</td>\n",
       "      <td>7.0</td>\n",
       "      <td>2.0</td>\n",
       "      <td>484.0</td>\n",
       "      <td>1.0</td>\n",
       "    </tr>\n",
       "    <tr>\n",
       "      <th>8</th>\n",
       "      <td>6120.0</td>\n",
       "      <td>7.0</td>\n",
       "      <td>5.0</td>\n",
       "      <td>952.0</td>\n",
       "      <td>2.0</td>\n",
       "      <td>0.0</td>\n",
       "      <td>2.0</td>\n",
       "      <td>8.0</td>\n",
       "      <td>2.0</td>\n",
       "      <td>468.0</td>\n",
       "      <td>0.0</td>\n",
       "    </tr>\n",
       "    <tr>\n",
       "      <th>9</th>\n",
       "      <td>7420.0</td>\n",
       "      <td>5.0</td>\n",
       "      <td>6.0</td>\n",
       "      <td>991.0</td>\n",
       "      <td>1.0</td>\n",
       "      <td>0.0</td>\n",
       "      <td>2.0</td>\n",
       "      <td>5.0</td>\n",
       "      <td>2.0</td>\n",
       "      <td>205.0</td>\n",
       "      <td>0.0</td>\n",
       "    </tr>\n",
       "  </tbody>\n",
       "</table>\n",
       "</div>"
      ],
      "text/plain": [
       "   LotArea  OverallQual  OverallCond  TotalBsmtSF  FullBath  HalfBath  \\\n",
       "0   8450.0          7.0          5.0        856.0       2.0       1.0   \n",
       "1   9600.0          6.0          8.0       1262.0       2.0       0.0   \n",
       "2  11250.0          7.0          5.0        920.0       2.0       1.0   \n",
       "3   9550.0          7.0          5.0        756.0       1.0       0.0   \n",
       "4  14260.0          8.0          5.0       1145.0       2.0       1.0   \n",
       "5  14115.0          5.0          5.0        796.0       1.0       1.0   \n",
       "6  10084.0          8.0          5.0       1686.0       2.0       0.0   \n",
       "7  10382.0          7.0          6.0       1107.0       2.0       1.0   \n",
       "8   6120.0          7.0          5.0        952.0       2.0       0.0   \n",
       "9   7420.0          5.0          6.0        991.0       1.0       0.0   \n",
       "\n",
       "   BedroomAbvGr  TotRmsAbvGrd  Fireplaces  GarageArea  AboveMedianPrice  \n",
       "0           3.0           8.0         0.0       548.0               1.0  \n",
       "1           3.0           6.0         1.0       460.0               1.0  \n",
       "2           3.0           6.0         1.0       608.0               1.0  \n",
       "3           3.0           7.0         1.0       642.0               0.0  \n",
       "4           4.0           9.0         1.0       836.0               1.0  \n",
       "5           1.0           5.0         0.0       480.0               0.0  \n",
       "6           3.0           7.0         1.0       636.0               1.0  \n",
       "7           3.0           7.0         2.0       484.0               1.0  \n",
       "8           2.0           8.0         2.0       468.0               0.0  \n",
       "9           2.0           5.0         2.0       205.0               0.0  "
      ]
     },
     "execution_count": 2,
     "metadata": {},
     "output_type": "execute_result"
    }
   ],
   "source": [
    "df = pd.read_csv('housepricedata.csv')\n",
    "df.head(10)"
   ]
  },
  {
   "cell_type": "code",
   "execution_count": 3,
   "metadata": {},
   "outputs": [],
   "source": [
    "df.isnull().any()\n",
    "df = df.fillna(method='ffill')"
   ]
  },
  {
   "cell_type": "code",
   "execution_count": 4,
   "metadata": {},
   "outputs": [
    {
     "data": {
      "text/plain": [
       "LotArea             False\n",
       "OverallQual         False\n",
       "OverallCond         False\n",
       "TotalBsmtSF         False\n",
       "FullBath            False\n",
       "HalfBath            False\n",
       "BedroomAbvGr        False\n",
       "TotRmsAbvGrd        False\n",
       "Fireplaces          False\n",
       "GarageArea          False\n",
       "AboveMedianPrice    False\n",
       "dtype: bool"
      ]
     },
     "execution_count": 4,
     "metadata": {},
     "output_type": "execute_result"
    }
   ],
   "source": [
    "df.isnull().any()"
   ]
  },
  {
   "cell_type": "code",
   "execution_count": 5,
   "metadata": {},
   "outputs": [],
   "source": [
    "dataset=df.values"
   ]
  },
  {
   "cell_type": "code",
   "execution_count": 12,
   "metadata": {},
   "outputs": [],
   "source": [
    "X=dataset[:,0:10]\n",
    "Y=dataset[:,10]"
   ]
  },
  {
   "cell_type": "code",
   "execution_count": 13,
   "metadata": {},
   "outputs": [],
   "source": [
    "min_max_scaler=preprocessing.MinMaxScaler()\n",
    "X_scale = min_max_scaler.fit_transform(X) #fit compute the mean and std,transform uses a previously computed mean and std to auto scale the data, Sub mean from all values and then devide it by std, fit transform does both at the same time"
   ]
  },
  {
   "cell_type": "code",
   "execution_count": 14,
   "metadata": {},
   "outputs": [],
   "source": [
    "X_train, X_val_and_test, Y_train, Y_val_and_test = train_test_split(X_scale, Y, test_size=0.3)\n",
    "X_val, X_test, Y_val, Y_test = train_test_split(X_val_and_test, Y_val_and_test, test_size=0.5)"
   ]
  },
  {
   "cell_type": "code",
   "execution_count": 15,
   "metadata": {},
   "outputs": [
    {
     "name": "stdout",
     "output_type": "stream",
     "text": [
      "(1023, 10) (219, 10) (220, 10) (1023,) (219,) (220,)\n"
     ]
    }
   ],
   "source": [
    "print(X_train.shape, X_val.shape, X_test.shape, Y_train.shape, Y_val.shape, Y_test.shape)"
   ]
  },
  {
   "cell_type": "markdown",
   "metadata": {},
   "source": [
    "## We specify that in our Keras sequential model like this:"
   ]
  },
  {
   "cell_type": "code",
   "execution_count": 16,
   "metadata": {},
   "outputs": [],
   "source": [
    "#Sigmoid Function (A function which ‘squeezes’ all the initial output to be between 0 and 1)\n",
    "#ReLU Function (If the initial output is negative, then output 0. If not, do nothing to the initial output)\n",
    "model = Sequential([\n",
    "    Dense(32, activation='relu', input_shape=(10,)),\n",
    "    Dense(32, activation='relu'),\n",
    "    Dense(1, activation='sigmoid'),\n",
    "])"
   ]
  },
  {
   "cell_type": "code",
   "execution_count": 17,
   "metadata": {},
   "outputs": [],
   "source": [
    "model.compile(optimizer='sgd',\n",
    "              loss='binary_crossentropy',\n",
    "              metrics=['accuracy'])"
   ]
  },
  {
   "cell_type": "code",
   "execution_count": 19,
   "metadata": {
    "scrolled": false
   },
   "outputs": [
    {
     "name": "stdout",
     "output_type": "stream",
     "text": [
      "Train on 1023 samples, validate on 219 samples\n",
      "Epoch 1/100\n",
      "1023/1023 [==============================] - 0s 78us/step - loss: 0.2893 - acc: 0.8817 - val_loss: 0.2636 - val_acc: 0.8858\n",
      "Epoch 2/100\n",
      "1023/1023 [==============================] - 0s 108us/step - loss: 0.2879 - acc: 0.8807 - val_loss: 0.2639 - val_acc: 0.8950\n",
      "Epoch 3/100\n",
      "1023/1023 [==============================] - 0s 85us/step - loss: 0.2878 - acc: 0.8827 - val_loss: 0.2642 - val_acc: 0.8950\n",
      "Epoch 4/100\n",
      "1023/1023 [==============================] - 0s 82us/step - loss: 0.2868 - acc: 0.8798 - val_loss: 0.2633 - val_acc: 0.8950\n",
      "Epoch 5/100\n",
      "1023/1023 [==============================] - 0s 98us/step - loss: 0.2863 - acc: 0.8788 - val_loss: 0.2644 - val_acc: 0.8950\n",
      "Epoch 6/100\n",
      "1023/1023 [==============================] - 0s 62us/step - loss: 0.2855 - acc: 0.8798 - val_loss: 0.2617 - val_acc: 0.8950\n",
      "Epoch 7/100\n",
      "1023/1023 [==============================] - 0s 67us/step - loss: 0.2853 - acc: 0.8807 - val_loss: 0.2624 - val_acc: 0.8950\n",
      "Epoch 8/100\n",
      "1023/1023 [==============================] - 0s 77us/step - loss: 0.2844 - acc: 0.8807 - val_loss: 0.2612 - val_acc: 0.8950\n",
      "Epoch 9/100\n",
      "1023/1023 [==============================] - 0s 92us/step - loss: 0.2844 - acc: 0.8788 - val_loss: 0.2618 - val_acc: 0.8904\n",
      "Epoch 10/100\n",
      "1023/1023 [==============================] - 0s 83us/step - loss: 0.2840 - acc: 0.8807 - val_loss: 0.2614 - val_acc: 0.8904\n",
      "Epoch 11/100\n",
      "1023/1023 [==============================] - 0s 66us/step - loss: 0.2826 - acc: 0.8798 - val_loss: 0.2611 - val_acc: 0.8950\n",
      "Epoch 12/100\n",
      "1023/1023 [==============================] - 0s 161us/step - loss: 0.2820 - acc: 0.8788 - val_loss: 0.2598 - val_acc: 0.8904\n",
      "Epoch 13/100\n",
      "1023/1023 [==============================] - 0s 129us/step - loss: 0.2814 - acc: 0.8817 - val_loss: 0.2592 - val_acc: 0.8950\n",
      "Epoch 14/100\n",
      "1023/1023 [==============================] - 0s 89us/step - loss: 0.2806 - acc: 0.8807 - val_loss: 0.2578 - val_acc: 0.8950\n",
      "Epoch 15/100\n",
      "1023/1023 [==============================] - 0s 72us/step - loss: 0.2806 - acc: 0.8807 - val_loss: 0.2606 - val_acc: 0.8995\n",
      "Epoch 16/100\n",
      "1023/1023 [==============================] - 0s 99us/step - loss: 0.2795 - acc: 0.8856 - val_loss: 0.2607 - val_acc: 0.8995\n",
      "Epoch 17/100\n",
      "1023/1023 [==============================] - 0s 59us/step - loss: 0.2793 - acc: 0.8847 - val_loss: 0.2580 - val_acc: 0.8950\n",
      "Epoch 18/100\n",
      "1023/1023 [==============================] - 0s 59us/step - loss: 0.2792 - acc: 0.8817 - val_loss: 0.2593 - val_acc: 0.8995\n",
      "Epoch 19/100\n",
      "1023/1023 [==============================] - 0s 102us/step - loss: 0.2778 - acc: 0.8856 - val_loss: 0.2567 - val_acc: 0.8950\n",
      "Epoch 20/100\n",
      "1023/1023 [==============================] - 0s 199us/step - loss: 0.2782 - acc: 0.8827 - val_loss: 0.2568 - val_acc: 0.8950\n",
      "Epoch 21/100\n",
      "1023/1023 [==============================] - 0s 143us/step - loss: 0.2772 - acc: 0.8837 - val_loss: 0.2560 - val_acc: 0.8995\n",
      "Epoch 22/100\n",
      "1023/1023 [==============================] - 0s 93us/step - loss: 0.2765 - acc: 0.8837 - val_loss: 0.2562 - val_acc: 0.8950\n",
      "Epoch 23/100\n",
      "1023/1023 [==============================] - 0s 103us/step - loss: 0.2769 - acc: 0.8847 - val_loss: 0.2548 - val_acc: 0.8950\n",
      "Epoch 24/100\n",
      "1023/1023 [==============================] - 0s 79us/step - loss: 0.2764 - acc: 0.8827 - val_loss: 0.2548 - val_acc: 0.8950\n",
      "Epoch 25/100\n",
      "1023/1023 [==============================] - 0s 115us/step - loss: 0.2759 - acc: 0.8817 - val_loss: 0.2558 - val_acc: 0.8995\n",
      "Epoch 26/100\n",
      "1023/1023 [==============================] - 0s 105us/step - loss: 0.2753 - acc: 0.8827 - val_loss: 0.2548 - val_acc: 0.8950\n",
      "Epoch 27/100\n",
      "1023/1023 [==============================] - 0s 105us/step - loss: 0.2747 - acc: 0.8876 - val_loss: 0.2559 - val_acc: 0.8995\n",
      "Epoch 28/100\n",
      "1023/1023 [==============================] - 0s 118us/step - loss: 0.2736 - acc: 0.8866 - val_loss: 0.2542 - val_acc: 0.8950\n",
      "Epoch 29/100\n",
      "1023/1023 [==============================] - 0s 71us/step - loss: 0.2736 - acc: 0.8895 - val_loss: 0.2550 - val_acc: 0.8995\n",
      "Epoch 30/100\n",
      "1023/1023 [==============================] - 0s 67us/step - loss: 0.2731 - acc: 0.8856 - val_loss: 0.2575 - val_acc: 0.9041\n",
      "Epoch 31/100\n",
      "1023/1023 [==============================] - 0s 65us/step - loss: 0.2724 - acc: 0.8866 - val_loss: 0.2544 - val_acc: 0.8995\n",
      "Epoch 32/100\n",
      "1023/1023 [==============================] - 0s 83us/step - loss: 0.2733 - acc: 0.8886 - val_loss: 0.2533 - val_acc: 0.8950\n",
      "Epoch 33/100\n",
      "1023/1023 [==============================] - 0s 76us/step - loss: 0.2709 - acc: 0.8866 - val_loss: 0.2567 - val_acc: 0.9087\n",
      "Epoch 34/100\n",
      "1023/1023 [==============================] - 0s 75us/step - loss: 0.2712 - acc: 0.8856 - val_loss: 0.2531 - val_acc: 0.8950\n",
      "Epoch 35/100\n",
      "1023/1023 [==============================] - 0s 81us/step - loss: 0.2710 - acc: 0.8886 - val_loss: 0.2519 - val_acc: 0.8950\n",
      "Epoch 36/100\n",
      "1023/1023 [==============================] - 0s 69us/step - loss: 0.2703 - acc: 0.8876 - val_loss: 0.2530 - val_acc: 0.8995\n",
      "Epoch 37/100\n",
      "1023/1023 [==============================] - 0s 121us/step - loss: 0.2700 - acc: 0.8876 - val_loss: 0.2534 - val_acc: 0.8995\n",
      "Epoch 38/100\n",
      "1023/1023 [==============================] - 0s 163us/step - loss: 0.2700 - acc: 0.8856 - val_loss: 0.2517 - val_acc: 0.8950\n",
      "Epoch 39/100\n",
      "1023/1023 [==============================] - 0s 178us/step - loss: 0.2696 - acc: 0.8886 - val_loss: 0.2512 - val_acc: 0.8950\n",
      "Epoch 40/100\n",
      "1023/1023 [==============================] - 0s 101us/step - loss: 0.2691 - acc: 0.8876 - val_loss: 0.2504 - val_acc: 0.8950\n",
      "Epoch 41/100\n",
      "1023/1023 [==============================] - 0s 71us/step - loss: 0.2690 - acc: 0.8895 - val_loss: 0.2519 - val_acc: 0.8995\n",
      "Epoch 42/100\n",
      "1023/1023 [==============================] - 0s 74us/step - loss: 0.2683 - acc: 0.8876 - val_loss: 0.2510 - val_acc: 0.8950\n",
      "Epoch 43/100\n",
      "1023/1023 [==============================] - 0s 71us/step - loss: 0.2678 - acc: 0.8895 - val_loss: 0.2505 - val_acc: 0.8904\n",
      "Epoch 44/100\n",
      "1023/1023 [==============================] - 0s 150us/step - loss: 0.2673 - acc: 0.8876 - val_loss: 0.2555 - val_acc: 0.9087\n",
      "Epoch 45/100\n",
      "1023/1023 [==============================] - 0s 159us/step - loss: 0.2676 - acc: 0.8876 - val_loss: 0.2507 - val_acc: 0.8995\n",
      "Epoch 46/100\n",
      "1023/1023 [==============================] - 0s 90us/step - loss: 0.2668 - acc: 0.8876 - val_loss: 0.2495 - val_acc: 0.8904\n",
      "Epoch 47/100\n",
      "1023/1023 [==============================] - 0s 138us/step - loss: 0.2661 - acc: 0.8905 - val_loss: 0.2514 - val_acc: 0.9041\n",
      "Epoch 48/100\n",
      "1023/1023 [==============================] - 0s 141us/step - loss: 0.2662 - acc: 0.8876 - val_loss: 0.2538 - val_acc: 0.9087\n",
      "Epoch 49/100\n",
      "1023/1023 [==============================] - 0s 134us/step - loss: 0.2657 - acc: 0.8925 - val_loss: 0.2513 - val_acc: 0.9041\n",
      "Epoch 50/100\n",
      "1023/1023 [==============================] - 0s 66us/step - loss: 0.2659 - acc: 0.8895 - val_loss: 0.2486 - val_acc: 0.8995\n",
      "Epoch 51/100\n",
      "1023/1023 [==============================] - 0s 64us/step - loss: 0.2660 - acc: 0.8866 - val_loss: 0.2505 - val_acc: 0.8995\n",
      "Epoch 52/100\n",
      "1023/1023 [==============================] - 0s 96us/step - loss: 0.2653 - acc: 0.8876 - val_loss: 0.2527 - val_acc: 0.9087\n",
      "Epoch 53/100\n",
      "1023/1023 [==============================] - 0s 65us/step - loss: 0.2655 - acc: 0.8915 - val_loss: 0.2495 - val_acc: 0.8950\n",
      "Epoch 54/100\n",
      "1023/1023 [==============================] - 0s 101us/step - loss: 0.2647 - acc: 0.8905 - val_loss: 0.2487 - val_acc: 0.8904\n",
      "Epoch 55/100\n",
      "1023/1023 [==============================] - 0s 53us/step - loss: 0.2642 - acc: 0.8886 - val_loss: 0.2498 - val_acc: 0.8995\n",
      "Epoch 56/100\n",
      "1023/1023 [==============================] - 0s 53us/step - loss: 0.2645 - acc: 0.8895 - val_loss: 0.2532 - val_acc: 0.9041\n",
      "Epoch 57/100\n",
      "1023/1023 [==============================] - 0s 84us/step - loss: 0.2623 - acc: 0.8915 - val_loss: 0.2475 - val_acc: 0.8950\n",
      "Epoch 58/100\n",
      "1023/1023 [==============================] - 0s 65us/step - loss: 0.2633 - acc: 0.8876 - val_loss: 0.2473 - val_acc: 0.8995\n",
      "Epoch 59/100\n",
      "1023/1023 [==============================] - 0s 88us/step - loss: 0.2629 - acc: 0.8856 - val_loss: 0.2520 - val_acc: 0.9087\n",
      "Epoch 60/100\n",
      "1023/1023 [==============================] - 0s 93us/step - loss: 0.2626 - acc: 0.8876 - val_loss: 0.2505 - val_acc: 0.8995\n",
      "Epoch 61/100\n",
      "1023/1023 [==============================] - 0s 138us/step - loss: 0.2619 - acc: 0.8905 - val_loss: 0.2473 - val_acc: 0.8950\n",
      "Epoch 62/100\n",
      "1023/1023 [==============================] - 0s 149us/step - loss: 0.2628 - acc: 0.8856 - val_loss: 0.2487 - val_acc: 0.8995\n",
      "Epoch 63/100\n",
      "1023/1023 [==============================] - 0s 129us/step - loss: 0.2615 - acc: 0.8915 - val_loss: 0.2478 - val_acc: 0.9041\n",
      "Epoch 64/100\n",
      "1023/1023 [==============================] - 0s 65us/step - loss: 0.2613 - acc: 0.8925 - val_loss: 0.2466 - val_acc: 0.8995\n",
      "Epoch 65/100\n",
      "1023/1023 [==============================] - 0s 78us/step - loss: 0.2612 - acc: 0.8886 - val_loss: 0.2513 - val_acc: 0.9041\n",
      "Epoch 66/100\n",
      "1023/1023 [==============================] - 0s 65us/step - loss: 0.2605 - acc: 0.8876 - val_loss: 0.2464 - val_acc: 0.8995\n",
      "Epoch 67/100\n",
      "1023/1023 [==============================] - 0s 68us/step - loss: 0.2607 - acc: 0.8925 - val_loss: 0.2498 - val_acc: 0.9041\n",
      "Epoch 68/100\n",
      "1023/1023 [==============================] - 0s 111us/step - loss: 0.2602 - acc: 0.8895 - val_loss: 0.2462 - val_acc: 0.8950\n",
      "Epoch 69/100\n",
      "1023/1023 [==============================] - 0s 149us/step - loss: 0.2607 - acc: 0.8895 - val_loss: 0.2479 - val_acc: 0.9041\n",
      "Epoch 70/100\n",
      "1023/1023 [==============================] - 0s 207us/step - loss: 0.2593 - acc: 0.8915 - val_loss: 0.2463 - val_acc: 0.8950\n",
      "Epoch 71/100\n",
      "1023/1023 [==============================] - 0s 114us/step - loss: 0.2597 - acc: 0.8905 - val_loss: 0.2500 - val_acc: 0.9041\n",
      "Epoch 72/100\n",
      "1023/1023 [==============================] - 0s 101us/step - loss: 0.2601 - acc: 0.8876 - val_loss: 0.2467 - val_acc: 0.9041\n",
      "Epoch 73/100\n",
      "1023/1023 [==============================] - 0s 96us/step - loss: 0.2593 - acc: 0.8905 - val_loss: 0.2480 - val_acc: 0.9041\n",
      "Epoch 74/100\n",
      "1023/1023 [==============================] - 0s 63us/step - loss: 0.2604 - acc: 0.8866 - val_loss: 0.2499 - val_acc: 0.9041\n",
      "Epoch 75/100\n",
      "1023/1023 [==============================] - 0s 78us/step - loss: 0.2586 - acc: 0.8886 - val_loss: 0.2485 - val_acc: 0.9087\n",
      "Epoch 76/100\n",
      "1023/1023 [==============================] - 0s 78us/step - loss: 0.2589 - acc: 0.8895 - val_loss: 0.2470 - val_acc: 0.9041\n",
      "Epoch 77/100\n",
      "1023/1023 [==============================] - 0s 86us/step - loss: 0.2586 - acc: 0.8866 - val_loss: 0.2472 - val_acc: 0.9041\n",
      "Epoch 78/100\n",
      "1023/1023 [==============================] - 0s 70us/step - loss: 0.2595 - acc: 0.8915 - val_loss: 0.2477 - val_acc: 0.9041\n",
      "Epoch 79/100\n",
      "1023/1023 [==============================] - 0s 114us/step - loss: 0.2578 - acc: 0.8895 - val_loss: 0.2458 - val_acc: 0.9041\n",
      "Epoch 80/100\n",
      "1023/1023 [==============================] - 0s 170us/step - loss: 0.2581 - acc: 0.8876 - val_loss: 0.2472 - val_acc: 0.9041\n",
      "Epoch 81/100\n",
      "1023/1023 [==============================] - 0s 102us/step - loss: 0.2577 - acc: 0.8935 - val_loss: 0.2461 - val_acc: 0.9041\n",
      "Epoch 82/100\n",
      "1023/1023 [==============================] - 0s 132us/step - loss: 0.2575 - acc: 0.8886 - val_loss: 0.2456 - val_acc: 0.9041\n",
      "Epoch 83/100\n",
      "1023/1023 [==============================] - 0s 120us/step - loss: 0.2567 - acc: 0.8905 - val_loss: 0.2520 - val_acc: 0.8904\n",
      "Epoch 84/100\n",
      "1023/1023 [==============================] - 0s 85us/step - loss: 0.2567 - acc: 0.8895 - val_loss: 0.2450 - val_acc: 0.8995\n",
      "Epoch 85/100\n",
      "1023/1023 [==============================] - 0s 76us/step - loss: 0.2572 - acc: 0.8905 - val_loss: 0.2461 - val_acc: 0.9041\n",
      "Epoch 86/100\n",
      "1023/1023 [==============================] - 0s 85us/step - loss: 0.2565 - acc: 0.8905 - val_loss: 0.2451 - val_acc: 0.8995\n",
      "Epoch 87/100\n",
      "1023/1023 [==============================] - 0s 83us/step - loss: 0.2562 - acc: 0.8895 - val_loss: 0.2473 - val_acc: 0.9087\n",
      "Epoch 88/100\n",
      "1023/1023 [==============================] - 0s 93us/step - loss: 0.2556 - acc: 0.8925 - val_loss: 0.2480 - val_acc: 0.9087\n",
      "Epoch 89/100\n",
      "1023/1023 [==============================] - 0s 122us/step - loss: 0.2553 - acc: 0.8925 - val_loss: 0.2445 - val_acc: 0.8995\n",
      "Epoch 90/100\n",
      "1023/1023 [==============================] - 0s 136us/step - loss: 0.2560 - acc: 0.8886 - val_loss: 0.2461 - val_acc: 0.9041\n",
      "Epoch 91/100\n",
      "1023/1023 [==============================] - 0s 131us/step - loss: 0.2564 - acc: 0.8866 - val_loss: 0.2443 - val_acc: 0.8995\n",
      "Epoch 92/100\n",
      "1023/1023 [==============================] - 0s 85us/step - loss: 0.2540 - acc: 0.8895 - val_loss: 0.2496 - val_acc: 0.8950\n",
      "Epoch 93/100\n",
      "1023/1023 [==============================] - 0s 96us/step - loss: 0.2550 - acc: 0.8866 - val_loss: 0.2441 - val_acc: 0.8950\n",
      "Epoch 94/100\n",
      "1023/1023 [==============================] - 0s 55us/step - loss: 0.2549 - acc: 0.8905 - val_loss: 0.2480 - val_acc: 0.8995\n",
      "Epoch 95/100\n",
      "1023/1023 [==============================] - 0s 46us/step - loss: 0.2552 - acc: 0.8876 - val_loss: 0.2441 - val_acc: 0.8995\n",
      "Epoch 96/100\n",
      "1023/1023 [==============================] - 0s 113us/step - loss: 0.2550 - acc: 0.8905 - val_loss: 0.2448 - val_acc: 0.9041\n",
      "Epoch 97/100\n",
      "1023/1023 [==============================] - 0s 159us/step - loss: 0.2540 - acc: 0.8876 - val_loss: 0.2439 - val_acc: 0.8995\n",
      "Epoch 98/100\n",
      "1023/1023 [==============================] - 0s 124us/step - loss: 0.2551 - acc: 0.8856 - val_loss: 0.2439 - val_acc: 0.8995\n",
      "Epoch 99/100\n",
      "1023/1023 [==============================] - 0s 177us/step - loss: 0.2545 - acc: 0.8876 - val_loss: 0.2448 - val_acc: 0.9041\n",
      "Epoch 100/100\n",
      "1023/1023 [==============================] - 0s 80us/step - loss: 0.2536 - acc: 0.8895 - val_loss: 0.2439 - val_acc: 0.8995\n"
     ]
    }
   ],
   "source": [
    "hist = model.fit(X_train, Y_train,\n",
    "          batch_size=32, epochs=100,\n",
    "          validation_data=(X_val, Y_val))"
   ]
  },
  {
   "cell_type": "code",
   "execution_count": 20,
   "metadata": {},
   "outputs": [
    {
     "name": "stdout",
     "output_type": "stream",
     "text": [
      "[0.26364392811032733, 0.2639441047221014, 0.26415979481178875, 0.2633288541477021, 0.2643697482946257, 0.2616759121554083, 0.2623619602559364, 0.2611599732615632, 0.26179262771181866, 0.2613558612729861, 0.26105534717372564, 0.25980933963163805, 0.25915019949005075, 0.25782409739004425, 0.2606355071612145, 0.2606922312550349, 0.25803218659472793, 0.25929652215683296, 0.25667464168376575, 0.2568335518172887, 0.25600836143646066, 0.2562364465025462, 0.25478454526156596, 0.2547501565794967, 0.25581831740189903, 0.25478666415225426, 0.2558549047877255, 0.25418392456557654, 0.25495877950431006, 0.25747372312088534, 0.25435936274049487, 0.25331557858480164, 0.25665757386651755, 0.2531058601864941, 0.2519345220229397, 0.25297784417459407, 0.2534153491394705, 0.2517049219374243, 0.2512381829355405, 0.2504395451311651, 0.2518966364670018, 0.25103511365309156, 0.2504729598624521, 0.2554843712206845, 0.2507206070913027, 0.2495375960793125, 0.251375918927258, 0.25379332587054876, 0.2512527890673511, 0.2486272084114214, 0.2504871556339743, 0.25269002484404335, 0.24949593290890734, 0.24868048761533276, 0.24982255567970885, 0.25320366337963435, 0.24753020492862893, 0.24730704738397033, 0.25196085019743064, 0.2505389461506447, 0.2473129077589131, 0.2486517142215276, 0.2478171535278564, 0.24655848292455282, 0.25128467346979605, 0.24636407700031315, 0.24984135298424115, 0.24622389823878738, 0.24789793027318233, 0.2463146571291092, 0.24996563445215356, 0.24671579210181213, 0.248045722779618, 0.2499489124915371, 0.24850072674283155, 0.24703933842922454, 0.24723882850718826, 0.24770707068922312, 0.24576152561734257, 0.24719867572936838, 0.24614029578422303, 0.24562762317047815, 0.25197572380168254, 0.24495004927186662, 0.24612943079645774, 0.2451251430190317, 0.24728216679945383, 0.2480295669950851, 0.244537735298344, 0.2460749882813458, 0.24428113267574136, 0.24959308126745702, 0.24412971367574718, 0.24795519346243713, 0.2440704586979461, 0.24477908988249356, 0.243882580434895, 0.24385672902952046, 0.24480832800201086, 0.24392818431603855]\n"
     ]
    }
   ],
   "source": [
    "print(hist.history['val_loss'])"
   ]
  },
  {
   "cell_type": "code",
   "execution_count": 21,
   "metadata": {},
   "outputs": [
    {
     "name": "stdout",
     "output_type": "stream",
     "text": [
      "220/220 [==============================] - 0s 40us/step\n"
     ]
    },
    {
     "data": {
      "text/plain": [
       "0.8999999989162791"
      ]
     },
     "execution_count": 21,
     "metadata": {},
     "output_type": "execute_result"
    }
   ],
   "source": [
    "model.evaluate(X_test, Y_test)[1]"
   ]
  },
  {
   "cell_type": "code",
   "execution_count": 22,
   "metadata": {},
   "outputs": [
    {
     "data": {
      "image/png": "[encoded data removed]",
      "text/plain": [
       "<Figure size 432x288 with 1 Axes>"
      ]
     },
     "metadata": {
      "needs_background": "light"
     },
     "output_type": "display_data"
    }
   ],
   "source": [
    "plt.plot(hist.history['loss'])\n",
    "plt.plot(hist.history['val_loss'])\n",
    "plt.title('Model loss')\n",
    "plt.ylabel('Loss')\n",
    "plt.xlabel('Epoch')\n",
    "plt.legend(['Train', 'Val'], loc='upper right')\n",
    "plt.show()"
   ]
  },
  {
   "cell_type": "code",
   "execution_count": 23,
   "metadata": {},
   "outputs": [
    {
     "data": {
      "image/png": "[encoded data removed]",
      "text/plain": [
       "<Figure size 432x288 with 1 Axes>"
      ]
     },
     "metadata": {
      "needs_background": "light"
     },
     "output_type": "display_data"
    }
   ],
   "source": [
    "plt.plot(hist.history['acc'])\n",
    "plt.plot(hist.history['val_acc'])\n",
    "plt.title('Model accuracy')\n",
    "plt.ylabel('Accuracy')\n",
    "plt.xlabel('Epoch')\n",
    "plt.legend(['Train', 'Val'], loc='upper right')\n",
    "plt.show()"
   ]
  },
  {
   "cell_type": "code",
   "execution_count": 24,
   "metadata": {},
   "outputs": [
    {
     "name": "stdout",
     "output_type": "stream",
     "text": [
      "WARNING:tensorflow:From C:\\Users\\Bilal\\Anaconda3\\envs\\neural-network\\lib\\site-packages\\keras\\backend\\tensorflow_backend.py:133: The name tf.placeholder_with_default is deprecated. Please use tf.compat.v1.placeholder_with_default instead.\n",
      "\n",
      "WARNING:tensorflow:From C:\\Users\\Bilal\\Anaconda3\\envs\\neural-network\\lib\\site-packages\\keras\\backend\\tensorflow_backend.py:3445: calling dropout (from tensorflow.python.ops.nn_ops) with keep_prob is deprecated and will be removed in a future version.\n",
      "Instructions for updating:\n",
      "Please use `rate` instead of `keep_prob`. Rate should be set to `rate = 1 - keep_prob`.\n"
     ]
    }
   ],
   "source": [
    "model_3 = Sequential([\n",
    "    Dense(1000, activation='relu', kernel_regularizer=regularizers.l2(0.01), input_shape=(10,)),\n",
    "    Dropout(0.3),\n",
    "    Dense(1000, activation='relu', kernel_regularizer=regularizers.l2(0.01)),\n",
    "    Dropout(0.3),\n",
    "    Dense(1000, activation='relu', kernel_regularizer=regularizers.l2(0.01)),\n",
    "    Dropout(0.3),\n",
    "    Dense(1000, activation='relu', kernel_regularizer=regularizers.l2(0.01)),\n",
    "    Dropout(0.3),\n",
    "    Dense(1, activation='sigmoid', kernel_regularizer=regularizers.l2(0.01)),\n",
    "])"
   ]
  },
  {
   "cell_type": "code",
   "execution_count": 25,
   "metadata": {},
   "outputs": [],
   "source": [
    "model_3.compile(optimizer='adam',\n",
    "              loss='binary_crossentropy',\n",
    "              metrics=['accuracy'])"
   ]
  },
  {
   "cell_type": "code",
   "execution_count": null,
   "metadata": {},
   "outputs": [],
   "source": [
    "hist_3 = model_3.fit(X_train, Y_train,\n",
    "          batch_size=32, epochs=100,\n",
    "          validation_data=(X_val, Y_val))"
   ]
  },
  {
   "cell_type": "code",
   "execution_count": 150,
   "metadata": {},
   "outputs": [
    {
     "name": "stdout",
     "output_type": "stream",
     "text": [
      "220/220 [==============================] - 0s 638us/step\n"
     ]
    },
    {
     "data": {
      "text/plain": [
       "0.9136363625526428"
      ]
     },
     "execution_count": 150,
     "metadata": {},
     "output_type": "execute_result"
    }
   ],
   "source": [
    "model_3.evaluate(X_test, Y_test)[1]"
   ]
  },
  {
   "cell_type": "code",
   "execution_count": 151,
   "metadata": {},
   "outputs": [
    {
     "data": {
      "image/png": "[encoded data removed]",
      "text/plain": [
       "<Figure size 432x288 with 1 Axes>"
      ]
     },
     "metadata": {
      "needs_background": "light"
     },
     "output_type": "display_data"
    }
   ],
   "source": [
    "plt.plot(hist_3.history['loss'])\n",
    "plt.plot(hist_3.history['val_loss'])\n",
    "plt.title('Model loss')\n",
    "plt.ylabel('Loss')\n",
    "plt.xlabel('Epoch')\n",
    "plt.legend(['Train', 'Val'], loc='upper right')\n",
    "plt.ylim(top=1.2, bottom=0)\n",
    "plt.show()"
   ]
  },
  {
   "cell_type": "code",
   "execution_count": 152,
   "metadata": {},
   "outputs": [
    {
     "data": {
      "image/png": "[encoded data removed]",
      "text/plain": [
       "<Figure size 432x288 with 1 Axes>"
      ]
     },
     "metadata": {
      "needs_background": "light"
     },
     "output_type": "display_data"
    }
   ],
   "source": [
    "plt.plot(hist_3.history['acc'])\n",
    "plt.plot(hist_3.history['val_acc'])\n",
    "plt.title('Model accuracy')\n",
    "plt.ylabel('Accuracy')\n",
    "plt.xlabel('Epoch')\n",
    "plt.legend(['Train', 'Val'], loc='lower right')\n",
    "plt.show()"
   ]
  },
  {
   "cell_type": "markdown",
   "metadata": {},
   "source": [
    "## Prediction On Test data"
   ]
  },
  {
   "cell_type": "code",
   "execution_count": 153,
   "metadata": {},
   "outputs": [
    {
     "name": "stdout",
     "output_type": "stream",
     "text": [
      "[[0.06686842]\n",
      " [0.05819431]\n",
      " [0.9372022 ]\n",
      " [0.08862868]\n",
      " [0.9666686 ]\n",
      " [0.04573306]\n",
      " [0.97303104]\n",
      " [0.88409966]\n",
      " [0.23505747]\n",
      " [0.94545436]\n",
      " [0.8527925 ]\n",
      " [0.73185444]\n",
      " [0.830292  ]\n",
      " [0.35862574]\n",
      " [0.04435244]\n",
      " [0.5986772 ]\n",
      " [0.05505463]\n",
      " [0.9873494 ]\n",
      " [0.7527067 ]\n",
      " [0.04388407]\n",
      " [0.8379559 ]\n",
      " [0.0473724 ]\n",
      " [0.9504214 ]\n",
      " [0.06108931]\n",
      " [0.67199814]\n",
      " [0.92245317]\n",
      " [0.08307159]\n",
      " [0.04456574]\n",
      " [0.63686913]\n",
      " [0.95457125]\n",
      " [0.41704434]\n",
      " [0.7529384 ]\n",
      " [0.10109174]\n",
      " [0.8961543 ]\n",
      " [0.80315495]\n",
      " [0.5445405 ]\n",
      " [0.21856347]\n",
      " [0.8665352 ]\n",
      " [0.7939311 ]\n",
      " [0.8715248 ]\n",
      " [0.09503925]\n",
      " [0.29583088]\n",
      " [0.9771501 ]\n",
      " [0.69356424]\n",
      " [0.10366279]\n",
      " [0.39143994]\n",
      " [0.14180985]\n",
      " [0.7999505 ]\n",
      " [0.9544934 ]\n",
      " [0.08483905]\n",
      " [0.04462412]\n",
      " [0.0828445 ]\n",
      " [0.98510617]\n",
      " [0.67295086]\n",
      " [0.07617444]\n",
      " [0.9126427 ]\n",
      " [0.8876297 ]\n",
      " [0.8115691 ]\n",
      " [0.5574511 ]\n",
      " [0.06961203]\n",
      " [0.49863964]\n",
      " [0.1919491 ]\n",
      " [0.8510662 ]\n",
      " [0.71542406]\n",
      " [0.17336467]\n",
      " [0.3574534 ]\n",
      " [0.98398256]\n",
      " [0.9821627 ]\n",
      " [0.04388186]\n",
      " [0.07544604]\n",
      " [0.7222698 ]\n",
      " [0.9349748 ]\n",
      " [0.5238262 ]\n",
      " [0.9658156 ]\n",
      " [0.8595785 ]\n",
      " [0.67038566]\n",
      " [0.04999104]\n",
      " [0.04439855]\n",
      " [0.97774684]\n",
      " [0.06404656]\n",
      " [0.87629527]\n",
      " [0.36577785]\n",
      " [0.04410076]\n",
      " [0.74576294]\n",
      " [0.95792866]\n",
      " [0.04390147]\n",
      " [0.8807911 ]\n",
      " [0.95526636]\n",
      " [0.9147259 ]\n",
      " [0.04485103]\n",
      " [0.10286704]\n",
      " [0.06639767]\n",
      " [0.96367836]\n",
      " [0.28667623]\n",
      " [0.31872636]\n",
      " [0.7861164 ]\n",
      " [0.9617264 ]\n",
      " [0.62931645]\n",
      " [0.04911181]\n",
      " [0.69434124]\n",
      " [0.06059036]\n",
      " [0.7044838 ]\n",
      " [0.04527989]\n",
      " [0.04381585]\n",
      " [0.63513386]\n",
      " [0.9067073 ]\n",
      " [0.29234326]\n",
      " [0.14725313]\n",
      " [0.95672894]\n",
      " [0.58345026]\n",
      " [0.13428316]\n",
      " [0.04456314]\n",
      " [0.0641396 ]\n",
      " [0.98067284]\n",
      " [0.91252816]\n",
      " [0.75800645]\n",
      " [0.95748293]\n",
      " [0.6888436 ]\n",
      " [0.0641737 ]\n",
      " [0.9484829 ]\n",
      " [0.10589916]\n",
      " [0.8315511 ]\n",
      " [0.09143105]\n",
      " [0.8802653 ]\n",
      " [0.47466516]\n",
      " [0.04360542]\n",
      " [0.7933147 ]\n",
      " [0.11520007]\n",
      " [0.53719246]\n",
      " [0.9371971 ]\n",
      " [0.97089005]\n",
      " [0.04393122]\n",
      " [0.96331   ]\n",
      " [0.59569895]\n",
      " [0.9590118 ]\n",
      " [0.86117053]\n",
      " [0.921986  ]\n",
      " [0.72982675]\n",
      " [0.5498739 ]\n",
      " [0.9297427 ]\n",
      " [0.9699478 ]\n",
      " [0.05117497]\n",
      " [0.04554313]\n",
      " [0.92718685]\n",
      " [0.5734631 ]\n",
      " [0.24290282]\n",
      " [0.04703617]\n",
      " [0.04606828]\n",
      " [0.7820027 ]\n",
      " [0.32257444]\n",
      " [0.9126507 ]\n",
      " [0.21892029]\n",
      " [0.22923681]\n",
      " [0.9486444 ]\n",
      " [0.9198574 ]\n",
      " [0.09173214]\n",
      " [0.05839628]\n",
      " [0.782707  ]\n",
      " [0.9646522 ]\n",
      " [0.90516603]\n",
      " [0.9128591 ]\n",
      " [0.4358952 ]\n",
      " [0.04644847]\n",
      " [0.7882143 ]\n",
      " [0.33571744]\n",
      " [0.47739175]\n",
      " [0.44338322]\n",
      " [0.04395834]\n",
      " [0.07533863]\n",
      " [0.8249024 ]\n",
      " [0.04783848]\n",
      " [0.8486528 ]\n",
      " [0.873608  ]\n",
      " [0.9653038 ]\n",
      " [0.05010942]\n",
      " [0.04495847]\n",
      " [0.97905624]\n",
      " [0.04463643]\n",
      " [0.07608753]\n",
      " [0.98005396]\n",
      " [0.8098815 ]\n",
      " [0.04586282]\n",
      " [0.9348265 ]\n",
      " [0.9700498 ]\n",
      " [0.9791021 ]\n",
      " [0.845196  ]\n",
      " [0.08601269]\n",
      " [0.0441733 ]\n",
      " [0.0547131 ]\n",
      " [0.9081186 ]\n",
      " [0.70862913]\n",
      " [0.9305461 ]\n",
      " [0.08042017]\n",
      " [0.2945426 ]\n",
      " [0.8077724 ]\n",
      " [0.08194208]\n",
      " [0.05133721]\n",
      " [0.7764412 ]\n",
      " [0.95978564]\n",
      " [0.9788654 ]\n",
      " [0.49472904]\n",
      " [0.04798314]\n",
      " [0.6556599 ]\n",
      " [0.7663117 ]\n",
      " [0.84529173]\n",
      " [0.04428756]\n",
      " [0.85058653]\n",
      " [0.9321639 ]\n",
      " [0.81609637]\n",
      " [0.8095713 ]\n",
      " [0.04513657]\n",
      " [0.38327092]\n",
      " [0.6884336 ]\n",
      " [0.82558787]\n",
      " [0.93567324]\n",
      " [0.9694027 ]\n",
      " [0.32200223]\n",
      " [0.78891397]\n",
      " [0.05130112]\n",
      " [0.91018593]]\n"
     ]
    }
   ],
   "source": [
    "y_pred=model_3.predict(X_test)\n",
    "print(y_pred)"
   ]
  },
  {
   "cell_type": "code",
   "execution_count": 154,
   "metadata": {},
   "outputs": [
    {
     "data": {
      "text/plain": [
       "[0.0,\n",
       " 0.0,\n",
       " 1.0,\n",
       " 0.0,\n",
       " 1.0,\n",
       " 0.0,\n",
       " 1.0,\n",
       " 1.0,\n",
       " 0.0,\n",
       " 1.0,\n",
       " 1.0,\n",
       " 1.0,\n",
       " 1.0,\n",
       " 0.0,\n",
       " 0.0,\n",
       " 1.0,\n",
       " 0.0,\n",
       " 1.0,\n",
       " 1.0,\n",
       " 0.0,\n",
       " 1.0,\n",
       " 0.0,\n",
       " 1.0,\n",
       " 0.0,\n",
       " 1.0,\n",
       " 1.0,\n",
       " 0.0,\n",
       " 0.0,\n",
       " 1.0,\n",
       " 1.0,\n",
       " 0.0,\n",
       " 1.0,\n",
       " 0.0,\n",
       " 1.0,\n",
       " 1.0,\n",
       " 1.0,\n",
       " 0.0,\n",
       " 1.0,\n",
       " 1.0,\n",
       " 1.0,\n",
       " 0.0,\n",
       " 0.0,\n",
       " 1.0,\n",
       " 1.0,\n",
       " 0.0,\n",
       " 0.0,\n",
       " 0.0,\n",
       " 1.0,\n",
       " 1.0,\n",
       " 0.0,\n",
       " 0.0,\n",
       " 0.0,\n",
       " 1.0,\n",
       " 1.0,\n",
       " 0.0,\n",
       " 1.0,\n",
       " 1.0,\n",
       " 1.0,\n",
       " 1.0,\n",
       " 0.0,\n",
       " 0.0,\n",
       " 0.0,\n",
       " 1.0,\n",
       " 1.0,\n",
       " 0.0,\n",
       " 0.0,\n",
       " 1.0,\n",
       " 1.0,\n",
       " 0.0,\n",
       " 0.0,\n",
       " 1.0,\n",
       " 1.0,\n",
       " 1.0,\n",
       " 1.0,\n",
       " 1.0,\n",
       " 1.0,\n",
       " 0.0,\n",
       " 0.0,\n",
       " 1.0,\n",
       " 0.0,\n",
       " 1.0,\n",
       " 0.0,\n",
       " 0.0,\n",
       " 1.0,\n",
       " 1.0,\n",
       " 0.0,\n",
       " 1.0,\n",
       " 1.0,\n",
       " 1.0,\n",
       " 0.0,\n",
       " 0.0,\n",
       " 0.0,\n",
       " 1.0,\n",
       " 0.0,\n",
       " 0.0,\n",
       " 1.0,\n",
       " 1.0,\n",
       " 1.0,\n",
       " 0.0,\n",
       " 1.0,\n",
       " 0.0,\n",
       " 1.0,\n",
       " 0.0,\n",
       " 0.0,\n",
       " 1.0,\n",
       " 1.0,\n",
       " 0.0,\n",
       " 0.0,\n",
       " 1.0,\n",
       " 1.0,\n",
       " 0.0,\n",
       " 0.0,\n",
       " 0.0,\n",
       " 1.0,\n",
       " 1.0,\n",
       " 1.0,\n",
       " 1.0,\n",
       " 1.0,\n",
       " 0.0,\n",
       " 1.0,\n",
       " 0.0,\n",
       " 1.0,\n",
       " 0.0,\n",
       " 1.0,\n",
       " 0.0,\n",
       " 0.0,\n",
       " 1.0,\n",
       " 0.0,\n",
       " 1.0,\n",
       " 1.0,\n",
       " 1.0,\n",
       " 0.0,\n",
       " 1.0,\n",
       " 1.0,\n",
       " 1.0,\n",
       " 1.0,\n",
       " 1.0,\n",
       " 1.0,\n",
       " 1.0,\n",
       " 1.0,\n",
       " 1.0,\n",
       " 0.0,\n",
       " 0.0,\n",
       " 1.0,\n",
       " 1.0,\n",
       " 0.0,\n",
       " 0.0,\n",
       " 0.0,\n",
       " 1.0,\n",
       " 0.0,\n",
       " 1.0,\n",
       " 0.0,\n",
       " 0.0,\n",
       " 1.0,\n",
       " 1.0,\n",
       " 0.0,\n",
       " 0.0,\n",
       " 1.0,\n",
       " 1.0,\n",
       " 1.0,\n",
       " 1.0,\n",
       " 0.0,\n",
       " 0.0,\n",
       " 1.0,\n",
       " 0.0,\n",
       " 0.0,\n",
       " 0.0,\n",
       " 0.0,\n",
       " 0.0,\n",
       " 1.0,\n",
       " 0.0,\n",
       " 1.0,\n",
       " 1.0,\n",
       " 1.0,\n",
       " 0.0,\n",
       " 0.0,\n",
       " 1.0,\n",
       " 0.0,\n",
       " 0.0,\n",
       " 1.0,\n",
       " 1.0,\n",
       " 0.0,\n",
       " 1.0,\n",
       " 1.0,\n",
       " 1.0,\n",
       " 1.0,\n",
       " 0.0,\n",
       " 0.0,\n",
       " 0.0,\n",
       " 1.0,\n",
       " 1.0,\n",
       " 1.0,\n",
       " 0.0,\n",
       " 0.0,\n",
       " 1.0,\n",
       " 0.0,\n",
       " 0.0,\n",
       " 1.0,\n",
       " 1.0,\n",
       " 1.0,\n",
       " 0.0,\n",
       " 0.0,\n",
       " 1.0,\n",
       " 1.0,\n",
       " 1.0,\n",
       " 0.0,\n",
       " 1.0,\n",
       " 1.0,\n",
       " 1.0,\n",
       " 1.0,\n",
       " 0.0,\n",
       " 0.0,\n",
       " 1.0,\n",
       " 1.0,\n",
       " 1.0,\n",
       " 1.0,\n",
       " 0.0,\n",
       " 1.0,\n",
       " 0.0,\n",
       " 1.0]"
      ]
     },
     "execution_count": 154,
     "metadata": {},
     "output_type": "execute_result"
    }
   ],
   "source": [
    "rounded=[round(x[0]) for x in y_pred]\n",
    "rounded"
   ]
  },
  {
   "cell_type": "code",
   "execution_count": 155,
   "metadata": {
    "scrolled": true
   },
   "outputs": [
    {
     "data": {
      "text/html": [
       "<div>\n",
       "<style scoped>\n",
       "    .dataframe tbody tr th:only-of-type {\n",
       "        vertical-align: middle;\n",
       "    }\n",
       "\n",
       "    .dataframe tbody tr th {\n",
       "        vertical-align: top;\n",
       "    }\n",
       "\n",
       "    .dataframe thead th {\n",
       "        text-align: right;\n",
       "    }\n",
       "</style>\n",
       "<table border=\"1\" class=\"dataframe\">\n",
       "  <thead>\n",
       "    <tr style=\"text-align: right;\">\n",
       "      <th></th>\n",
       "      <th>Actual</th>\n",
       "      <th>Predicted</th>\n",
       "    </tr>\n",
       "  </thead>\n",
       "  <tbody>\n",
       "    <tr>\n",
       "      <th>0</th>\n",
       "      <td>0.0</td>\n",
       "      <td>0.0</td>\n",
       "    </tr>\n",
       "    <tr>\n",
       "      <th>1</th>\n",
       "      <td>0.0</td>\n",
       "      <td>0.0</td>\n",
       "    </tr>\n",
       "    <tr>\n",
       "      <th>2</th>\n",
       "      <td>1.0</td>\n",
       "      <td>1.0</td>\n",
       "    </tr>\n",
       "    <tr>\n",
       "      <th>3</th>\n",
       "      <td>0.0</td>\n",
       "      <td>0.0</td>\n",
       "    </tr>\n",
       "    <tr>\n",
       "      <th>4</th>\n",
       "      <td>1.0</td>\n",
       "      <td>1.0</td>\n",
       "    </tr>\n",
       "  </tbody>\n",
       "</table>\n",
       "</div>"
      ],
      "text/plain": [
       "   Actual  Predicted\n",
       "0     0.0        0.0\n",
       "1     0.0        0.0\n",
       "2     1.0        1.0\n",
       "3     0.0        0.0\n",
       "4     1.0        1.0"
      ]
     },
     "execution_count": 155,
     "metadata": {},
     "output_type": "execute_result"
    }
   ],
   "source": [
    "df1 = pd.DataFrame({'Actual': Y_test.flatten(), 'Predicted': rounded})\n",
    "df1.head()"
   ]
  },
  {
   "cell_type": "markdown",
   "metadata": {},
   "source": [
    "## MY Own Prediction / My Own Data"
   ]
  },
  {
   "cell_type": "code",
   "execution_count": 218,
   "metadata": {},
   "outputs": [
    {
     "data": {
      "text/html": [
       "<div>\n",
       "<style scoped>\n",
       "    .dataframe tbody tr th:only-of-type {\n",
       "        vertical-align: middle;\n",
       "    }\n",
       "\n",
       "    .dataframe tbody tr th {\n",
       "        vertical-align: top;\n",
       "    }\n",
       "\n",
       "    .dataframe thead th {\n",
       "        text-align: right;\n",
       "    }\n",
       "</style>\n",
       "<table border=\"1\" class=\"dataframe\">\n",
       "  <thead>\n",
       "    <tr style=\"text-align: right;\">\n",
       "      <th></th>\n",
       "      <th>LotArea</th>\n",
       "      <th>OverallQual</th>\n",
       "      <th>OverallCond</th>\n",
       "      <th>TotalBsmtSF</th>\n",
       "      <th>FullBath</th>\n",
       "      <th>HalfBath</th>\n",
       "      <th>BedroomAbvGr</th>\n",
       "      <th>TotRmsAbvGrd</th>\n",
       "      <th>Fireplaces</th>\n",
       "      <th>GarageArea</th>\n",
       "    </tr>\n",
       "  </thead>\n",
       "  <tbody>\n",
       "    <tr>\n",
       "      <th>0</th>\n",
       "      <td>8450</td>\n",
       "      <td>7</td>\n",
       "      <td>5</td>\n",
       "      <td>856</td>\n",
       "      <td>2</td>\n",
       "      <td>1</td>\n",
       "      <td>3</td>\n",
       "      <td>8</td>\n",
       "      <td>0</td>\n",
       "      <td>548</td>\n",
       "    </tr>\n",
       "    <tr>\n",
       "      <th>1</th>\n",
       "      <td>14115</td>\n",
       "      <td>5</td>\n",
       "      <td>5</td>\n",
       "      <td>796</td>\n",
       "      <td>1</td>\n",
       "      <td>1</td>\n",
       "      <td>1</td>\n",
       "      <td>5</td>\n",
       "      <td>0</td>\n",
       "      <td>480</td>\n",
       "    </tr>\n",
       "    <tr>\n",
       "      <th>2</th>\n",
       "      <td>7555</td>\n",
       "      <td>6</td>\n",
       "      <td>4</td>\n",
       "      <td>881</td>\n",
       "      <td>1</td>\n",
       "      <td>1</td>\n",
       "      <td>2</td>\n",
       "      <td>6</td>\n",
       "      <td>0</td>\n",
       "      <td>360</td>\n",
       "    </tr>\n",
       "    <tr>\n",
       "      <th>3</th>\n",
       "      <td>8455</td>\n",
       "      <td>8</td>\n",
       "      <td>6</td>\n",
       "      <td>888</td>\n",
       "      <td>2</td>\n",
       "      <td>1</td>\n",
       "      <td>3</td>\n",
       "      <td>8</td>\n",
       "      <td>0</td>\n",
       "      <td>600</td>\n",
       "    </tr>\n",
       "  </tbody>\n",
       "</table>\n",
       "</div>"
      ],
      "text/plain": [
       "   LotArea  OverallQual  OverallCond  TotalBsmtSF  FullBath  HalfBath  \\\n",
       "0     8450            7            5          856         2         1   \n",
       "1    14115            5            5          796         1         1   \n",
       "2     7555            6            4          881         1         1   \n",
       "3     8455            8            6          888         2         1   \n",
       "\n",
       "   BedroomAbvGr  TotRmsAbvGrd  Fireplaces  GarageArea  \n",
       "0             3             8           0         548  \n",
       "1             1             5           0         480  \n",
       "2             2             6           0         360  \n",
       "3             3             8           0         600  "
      ]
     },
     "execution_count": 218,
     "metadata": {},
     "output_type": "execute_result"
    }
   ],
   "source": [
    "df2 = pd.read_csv('housepricedata(test).csv')\n",
    "df2.head()"
   ]
  },
  {
   "cell_type": "code",
   "execution_count": 219,
   "metadata": {},
   "outputs": [
    {
     "data": {
      "text/plain": [
       "array([[ 8450,     7,     5,   856,     2,     1,     3,     8,     0,\n",
       "          548],\n",
       "       [14115,     5,     5,   796,     1,     1,     1,     5,     0,\n",
       "          480],\n",
       "       [ 7555,     6,     4,   881,     1,     1,     2,     6,     0,\n",
       "          360],\n",
       "       [ 8455,     8,     6,   888,     2,     1,     3,     8,     0,\n",
       "          600]], dtype=int64)"
      ]
     },
     "execution_count": 219,
     "metadata": {},
     "output_type": "execute_result"
    }
   ],
   "source": [
    "x1=df2.values\n",
    "x1"
   ]
  },
  {
   "cell_type": "code",
   "execution_count": 220,
   "metadata": {},
   "outputs": [],
   "source": [
    "min_max_scaler_2=preprocessing.MinMaxScaler()\n",
    "X_scale_new = min_max_scaler_2.fit_transform(x1)"
   ]
  },
  {
   "cell_type": "code",
   "execution_count": 221,
   "metadata": {},
   "outputs": [
    {
     "data": {
      "text/plain": [
       "array([[0.13643293, 0.66666667, 0.5       , 0.65217391, 1.        ,\n",
       "        0.        , 1.        , 1.        , 0.        , 0.78333333],\n",
       "       [1.        , 0.        , 0.5       , 0.        , 0.        ,\n",
       "        0.        , 0.        , 0.        , 0.        , 0.5       ],\n",
       "       [0.        , 0.33333333, 0.        , 0.92391304, 0.        ,\n",
       "        0.        , 0.5       , 0.33333333, 0.        , 0.        ],\n",
       "       [0.13719512, 1.        , 1.        , 1.        , 1.        ,\n",
       "        0.        , 1.        , 1.        , 0.        , 1.        ]])"
      ]
     },
     "execution_count": 221,
     "metadata": {},
     "output_type": "execute_result"
    }
   ],
   "source": [
    "X_scale_new"
   ]
  },
  {
   "cell_type": "code",
   "execution_count": 222,
   "metadata": {},
   "outputs": [
    {
     "name": "stdout",
     "output_type": "stream",
     "text": [
      "[[0.9859113 ]\n",
      " [0.04394859]\n",
      " [0.04870012]\n",
      " [0.99690557]]\n"
     ]
    }
   ],
   "source": [
    "y_pred_new=model_3.predict(X_scale_new)\n",
    "print(y_pred_new)"
   ]
  },
  {
   "cell_type": "code",
   "execution_count": 223,
   "metadata": {},
   "outputs": [
    {
     "data": {
      "text/plain": [
       "[1.0, 0.0, 0.0, 1.0]"
      ]
     },
     "execution_count": 223,
     "metadata": {},
     "output_type": "execute_result"
    }
   ],
   "source": [
    "rounded=[round(x[0]) for x in y_pred_new]\n",
    "rounded"
   ]
  },
  {
   "cell_type": "code",
   "execution_count": null,
   "metadata": {},
   "outputs": [],
   "source": []
  },
  {
   "cell_type": "code",
   "execution_count": null,
   "metadata": {},
   "outputs": [],
   "source": []
  },
  {
   "cell_type": "code",
   "execution_count": null,
   "metadata": {},
   "outputs": [],
   "source": []
  },
  {
   "cell_type": "code",
   "execution_count": null,
   "metadata": {},
   "outputs": [],
   "source": []
  }
 ],
 "metadata": {
  "kernelspec": {
   "display_name": "Python 3",
   "language": "python",
   "name": "python3"
  },
  "language_info": {
   "codemirror_mode": {
    "name": "ipython",
    "version": 3
   },
   "file_extension": ".py",
   "mimetype": "text/x-python",
   "name": "python",
   "nbconvert_exporter": "python",
   "pygments_lexer": "ipython3",
   "version": "3.7.5"
  }
 },
 "nbformat": 4,
 "nbformat_minor": 4
}
