{
 "cells": [
  {
   "cell_type": "code",
   "execution_count": 1,
   "metadata": {},
   "outputs": [],
   "source": [
    "import pandas as pd\n",
    "import numpy as np\n",
    "import matplotlib.pyplot as plt"
   ]
  },
  {
   "cell_type": "code",
   "execution_count": 110,
   "metadata": {},
   "outputs": [
    {
     "data": {
      "text/html": [
       "<div>\n",
       "<style scoped>\n",
       "    .dataframe tbody tr th:only-of-type {\n",
       "        vertical-align: middle;\n",
       "    }\n",
       "\n",
       "    .dataframe tbody tr th {\n",
       "        vertical-align: top;\n",
       "    }\n",
       "\n",
       "    .dataframe thead th {\n",
       "        text-align: right;\n",
       "    }\n",
       "</style>\n",
       "<table border=\"1\" class=\"dataframe\">\n",
       "  <thead>\n",
       "    <tr style=\"text-align: right;\">\n",
       "      <th></th>\n",
       "      <th>CustomerId</th>\n",
       "      <th>Surname</th>\n",
       "      <th>CreditScore</th>\n",
       "      <th>Geography</th>\n",
       "      <th>Gender</th>\n",
       "      <th>Age</th>\n",
       "      <th>Tenure</th>\n",
       "      <th>Balance</th>\n",
       "      <th>NumOfProducts</th>\n",
       "      <th>HasCrCard</th>\n",
       "      <th>IsActiveMember</th>\n",
       "      <th>EstimatedSalary</th>\n",
       "      <th>Exited</th>\n",
       "    </tr>\n",
       "    <tr>\n",
       "      <th>RowNumber</th>\n",
       "      <th></th>\n",
       "      <th></th>\n",
       "      <th></th>\n",
       "      <th></th>\n",
       "      <th></th>\n",
       "      <th></th>\n",
       "      <th></th>\n",
       "      <th></th>\n",
       "      <th></th>\n",
       "      <th></th>\n",
       "      <th></th>\n",
       "      <th></th>\n",
       "      <th></th>\n",
       "    </tr>\n",
       "  </thead>\n",
       "  <tbody>\n",
       "    <tr>\n",
       "      <th>1</th>\n",
       "      <td>15634602</td>\n",
       "      <td>Hargrave</td>\n",
       "      <td>619</td>\n",
       "      <td>France</td>\n",
       "      <td>Female</td>\n",
       "      <td>42</td>\n",
       "      <td>2</td>\n",
       "      <td>0.00</td>\n",
       "      <td>1</td>\n",
       "      <td>1</td>\n",
       "      <td>1</td>\n",
       "      <td>101348.88</td>\n",
       "      <td>1</td>\n",
       "    </tr>\n",
       "    <tr>\n",
       "      <th>2</th>\n",
       "      <td>15647311</td>\n",
       "      <td>Hill</td>\n",
       "      <td>608</td>\n",
       "      <td>Spain</td>\n",
       "      <td>Female</td>\n",
       "      <td>41</td>\n",
       "      <td>1</td>\n",
       "      <td>83807.86</td>\n",
       "      <td>1</td>\n",
       "      <td>0</td>\n",
       "      <td>1</td>\n",
       "      <td>112542.58</td>\n",
       "      <td>0</td>\n",
       "    </tr>\n",
       "    <tr>\n",
       "      <th>3</th>\n",
       "      <td>15619304</td>\n",
       "      <td>Onio</td>\n",
       "      <td>502</td>\n",
       "      <td>France</td>\n",
       "      <td>Female</td>\n",
       "      <td>42</td>\n",
       "      <td>8</td>\n",
       "      <td>159660.80</td>\n",
       "      <td>3</td>\n",
       "      <td>1</td>\n",
       "      <td>0</td>\n",
       "      <td>113931.57</td>\n",
       "      <td>1</td>\n",
       "    </tr>\n",
       "    <tr>\n",
       "      <th>4</th>\n",
       "      <td>15701354</td>\n",
       "      <td>Boni</td>\n",
       "      <td>699</td>\n",
       "      <td>France</td>\n",
       "      <td>Female</td>\n",
       "      <td>39</td>\n",
       "      <td>1</td>\n",
       "      <td>0.00</td>\n",
       "      <td>2</td>\n",
       "      <td>0</td>\n",
       "      <td>0</td>\n",
       "      <td>93826.63</td>\n",
       "      <td>0</td>\n",
       "    </tr>\n",
       "    <tr>\n",
       "      <th>5</th>\n",
       "      <td>15737888</td>\n",
       "      <td>Mitchell</td>\n",
       "      <td>850</td>\n",
       "      <td>Spain</td>\n",
       "      <td>Female</td>\n",
       "      <td>43</td>\n",
       "      <td>2</td>\n",
       "      <td>125510.82</td>\n",
       "      <td>1</td>\n",
       "      <td>1</td>\n",
       "      <td>1</td>\n",
       "      <td>79084.10</td>\n",
       "      <td>0</td>\n",
       "    </tr>\n",
       "    <tr>\n",
       "      <th>...</th>\n",
       "      <td>...</td>\n",
       "      <td>...</td>\n",
       "      <td>...</td>\n",
       "      <td>...</td>\n",
       "      <td>...</td>\n",
       "      <td>...</td>\n",
       "      <td>...</td>\n",
       "      <td>...</td>\n",
       "      <td>...</td>\n",
       "      <td>...</td>\n",
       "      <td>...</td>\n",
       "      <td>...</td>\n",
       "      <td>...</td>\n",
       "    </tr>\n",
       "    <tr>\n",
       "      <th>9996</th>\n",
       "      <td>15606229</td>\n",
       "      <td>Obijiaku</td>\n",
       "      <td>771</td>\n",
       "      <td>France</td>\n",
       "      <td>Male</td>\n",
       "      <td>39</td>\n",
       "      <td>5</td>\n",
       "      <td>0.00</td>\n",
       "      <td>2</td>\n",
       "      <td>1</td>\n",
       "      <td>0</td>\n",
       "      <td>96270.64</td>\n",
       "      <td>0</td>\n",
       "    </tr>\n",
       "    <tr>\n",
       "      <th>9997</th>\n",
       "      <td>15569892</td>\n",
       "      <td>Johnstone</td>\n",
       "      <td>516</td>\n",
       "      <td>France</td>\n",
       "      <td>Male</td>\n",
       "      <td>35</td>\n",
       "      <td>10</td>\n",
       "      <td>57369.61</td>\n",
       "      <td>1</td>\n",
       "      <td>1</td>\n",
       "      <td>1</td>\n",
       "      <td>101699.77</td>\n",
       "      <td>0</td>\n",
       "    </tr>\n",
       "    <tr>\n",
       "      <th>9998</th>\n",
       "      <td>15584532</td>\n",
       "      <td>Liu</td>\n",
       "      <td>709</td>\n",
       "      <td>France</td>\n",
       "      <td>Female</td>\n",
       "      <td>36</td>\n",
       "      <td>7</td>\n",
       "      <td>0.00</td>\n",
       "      <td>1</td>\n",
       "      <td>0</td>\n",
       "      <td>1</td>\n",
       "      <td>42085.58</td>\n",
       "      <td>1</td>\n",
       "    </tr>\n",
       "    <tr>\n",
       "      <th>9999</th>\n",
       "      <td>15682355</td>\n",
       "      <td>Sabbatini</td>\n",
       "      <td>772</td>\n",
       "      <td>Germany</td>\n",
       "      <td>Male</td>\n",
       "      <td>42</td>\n",
       "      <td>3</td>\n",
       "      <td>75075.31</td>\n",
       "      <td>2</td>\n",
       "      <td>1</td>\n",
       "      <td>0</td>\n",
       "      <td>92888.52</td>\n",
       "      <td>1</td>\n",
       "    </tr>\n",
       "    <tr>\n",
       "      <th>10000</th>\n",
       "      <td>15628319</td>\n",
       "      <td>Walker</td>\n",
       "      <td>792</td>\n",
       "      <td>France</td>\n",
       "      <td>Female</td>\n",
       "      <td>28</td>\n",
       "      <td>4</td>\n",
       "      <td>130142.79</td>\n",
       "      <td>1</td>\n",
       "      <td>1</td>\n",
       "      <td>0</td>\n",
       "      <td>38190.78</td>\n",
       "      <td>0</td>\n",
       "    </tr>\n",
       "  </tbody>\n",
       "</table>\n",
       "<p>10000 rows × 13 columns</p>\n",
       "</div>"
      ],
      "text/plain": [
       "           CustomerId    Surname  CreditScore Geography  Gender  Age  Tenure  \\\n",
       "RowNumber                                                                      \n",
       "1            15634602   Hargrave          619    France  Female   42       2   \n",
       "2            15647311       Hill          608     Spain  Female   41       1   \n",
       "3            15619304       Onio          502    France  Female   42       8   \n",
       "4            15701354       Boni          699    France  Female   39       1   \n",
       "5            15737888   Mitchell          850     Spain  Female   43       2   \n",
       "...               ...        ...          ...       ...     ...  ...     ...   \n",
       "9996         15606229   Obijiaku          771    France    Male   39       5   \n",
       "9997         15569892  Johnstone          516    France    Male   35      10   \n",
       "9998         15584532        Liu          709    France  Female   36       7   \n",
       "9999         15682355  Sabbatini          772   Germany    Male   42       3   \n",
       "10000        15628319     Walker          792    France  Female   28       4   \n",
       "\n",
       "             Balance  NumOfProducts  HasCrCard  IsActiveMember  \\\n",
       "RowNumber                                                        \n",
       "1               0.00              1          1               1   \n",
       "2           83807.86              1          0               1   \n",
       "3          159660.80              3          1               0   \n",
       "4               0.00              2          0               0   \n",
       "5          125510.82              1          1               1   \n",
       "...              ...            ...        ...             ...   \n",
       "9996            0.00              2          1               0   \n",
       "9997        57369.61              1          1               1   \n",
       "9998            0.00              1          0               1   \n",
       "9999        75075.31              2          1               0   \n",
       "10000      130142.79              1          1               0   \n",
       "\n",
       "           EstimatedSalary  Exited  \n",
       "RowNumber                           \n",
       "1                101348.88       1  \n",
       "2                112542.58       0  \n",
       "3                113931.57       1  \n",
       "4                 93826.63       0  \n",
       "5                 79084.10       0  \n",
       "...                    ...     ...  \n",
       "9996              96270.64       0  \n",
       "9997             101699.77       0  \n",
       "9998              42085.58       1  \n",
       "9999              92888.52       1  \n",
       "10000             38190.78       0  \n",
       "\n",
       "[10000 rows x 13 columns]"
      ]
     },
     "execution_count": 110,
     "metadata": {},
     "output_type": "execute_result"
    }
   ],
   "source": [
    "dataset=pd.read_csv('Churn_Modelling.csv', index_col=['RowNumber'])\n",
    "dataset[\"Gender\"]=dataset[\"Gender\"].astype(\"category\")\n",
    "dataset[\"Geography\"]=dataset[\"Geography\"].astype(\"category\")\n",
    "dataset"
   ]
  },
  {
   "cell_type": "code",
   "execution_count": 111,
   "metadata": {},
   "outputs": [],
   "source": [
    "X=dataset.iloc[:, 2:12].values\n",
    "y=dataset.iloc[:,12].values"
   ]
  },
  {
   "cell_type": "code",
   "execution_count": 112,
   "metadata": {},
   "outputs": [
    {
     "data": {
      "text/plain": [
       "array([[619, 'France', 'Female', ..., 1, 1, 101348.88],\n",
       "       [608, 'Spain', 'Female', ..., 0, 1, 112542.58],\n",
       "       [502, 'France', 'Female', ..., 1, 0, 113931.57],\n",
       "       ...,\n",
       "       [709, 'France', 'Female', ..., 0, 1, 42085.58],\n",
       "       [772, 'Germany', 'Male', ..., 1, 0, 92888.52],\n",
       "       [792, 'France', 'Female', ..., 1, 0, 38190.78]], dtype=object)"
      ]
     },
     "execution_count": 112,
     "metadata": {},
     "output_type": "execute_result"
    }
   ],
   "source": [
    "X"
   ]
  },
  {
   "cell_type": "code",
   "execution_count": 113,
   "metadata": {},
   "outputs": [],
   "source": [
    "# Apply Label encoding, Convert Categorical Data into number"
   ]
  },
  {
   "cell_type": "code",
   "execution_count": 114,
   "metadata": {},
   "outputs": [],
   "source": [
    "from sklearn.preprocessing import LabelEncoder, OneHotEncoder\n",
    "labelencoder_X_1=LabelEncoder()\n",
    "X[:,1]=labelencoder_X_1.fit_transform(X[:,1])"
   ]
  },
  {
   "cell_type": "code",
   "execution_count": 115,
   "metadata": {},
   "outputs": [],
   "source": [
    "labelencoder_X_2=LabelEncoder()\n",
    "X[:,2]=labelencoder_X_2.fit_transform(X[:,2])"
   ]
  },
  {
   "cell_type": "code",
   "execution_count": 116,
   "metadata": {},
   "outputs": [
    {
     "data": {
      "text/plain": [
       "array([[619, 0, 0, ..., 1, 1, 101348.88],\n",
       "       [608, 2, 0, ..., 0, 1, 112542.58],\n",
       "       [502, 0, 0, ..., 1, 0, 113931.57],\n",
       "       ...,\n",
       "       [709, 0, 0, ..., 0, 1, 42085.58],\n",
       "       [772, 1, 1, ..., 1, 0, 92888.52],\n",
       "       [792, 0, 0, ..., 1, 0, 38190.78]], dtype=object)"
      ]
     },
     "execution_count": 116,
     "metadata": {},
     "output_type": "execute_result"
    }
   ],
   "source": [
    "X"
   ]
  },
  {
   "cell_type": "code",
   "execution_count": 117,
   "metadata": {},
   "outputs": [],
   "source": [
    "# Apply One Hot encoding, A one hot encoding is a representation of categorical variables as binary vectors."
   ]
  },
  {
   "cell_type": "code",
   "execution_count": 118,
   "metadata": {},
   "outputs": [],
   "source": [
    "from sklearn.compose import ColumnTransformer\n",
    "# onehotencoder=OneHotEncoder(categorical_features=[1])\n",
    "# X=onehotencoder.fit_transform(X).toarray()                                              (Depreciated)\n",
    "\n",
    "ct = ColumnTransformer([('my_ohe', OneHotEncoder(), [1])], remainder='passthrough')\n",
    "X = ct.fit_transform(X)"
   ]
  },
  {
   "cell_type": "code",
   "execution_count": 119,
   "metadata": {},
   "outputs": [],
   "source": [
    "#To avoid dummy variable trap we should always add one less (n-1) variable \n",
    "#then the total number of categories present in the categorical data (n) while adding dummy variables."
   ]
  },
  {
   "cell_type": "code",
   "execution_count": 120,
   "metadata": {},
   "outputs": [],
   "source": [
    "X=X[:,1:]"
   ]
  },
  {
   "cell_type": "code",
   "execution_count": 121,
   "metadata": {},
   "outputs": [],
   "source": [
    "from sklearn.model_selection import train_test_split"
   ]
  },
  {
   "cell_type": "code",
   "execution_count": 122,
   "metadata": {},
   "outputs": [],
   "source": [
    "X_train, X_test, y_train, y_test = train_test_split(X, y, test_size=0.2, random_state=0)"
   ]
  },
  {
   "cell_type": "code",
   "execution_count": 123,
   "metadata": {},
   "outputs": [],
   "source": [
    "# Feature Scalling"
   ]
  },
  {
   "cell_type": "code",
   "execution_count": 124,
   "metadata": {},
   "outputs": [],
   "source": [
    "from sklearn.preprocessing import StandardScaler\n",
    "sc=StandardScaler()\n",
    "X_train=sc.fit_transform(X_train)\n",
    "X_test=sc.transform(X_test)"
   ]
  },
  {
   "cell_type": "code",
   "execution_count": 125,
   "metadata": {},
   "outputs": [],
   "source": [
    "import keras\n",
    "from keras.models import Sequential\n",
    "from keras.layers import Dense"
   ]
  },
  {
   "cell_type": "code",
   "execution_count": 126,
   "metadata": {},
   "outputs": [],
   "source": [
    "# classifier = Sequential([\n",
    "#     Dense(32, activation='relu', input_shape=(10,)),\n",
    "#     Dense(32, activation='relu'),\n",
    "#     Dense(1, activation='sigmoid'),\n",
    "# ])"
   ]
  },
  {
   "cell_type": "code",
   "execution_count": 127,
   "metadata": {},
   "outputs": [],
   "source": [
    "# (Input Layer + Outputlayer)/2 <<<<<<<<<<<<<<<<<<<<<<= no of node"
   ]
  },
  {
   "cell_type": "code",
   "execution_count": 128,
   "metadata": {},
   "outputs": [
    {
     "name": "stderr",
     "output_type": "stream",
     "text": [
      "C:\\Users\\Bilal\\Anaconda3\\envs\\neural-network\\lib\\site-packages\\ipykernel_launcher.py:2: UserWarning: Update your `Dense` call to the Keras 2 API: `Dense(activation=\"relu\", input_dim=11, units=6, kernel_initializer=\"uniform\")`\n",
      "  \n",
      "C:\\Users\\Bilal\\Anaconda3\\envs\\neural-network\\lib\\site-packages\\ipykernel_launcher.py:3: UserWarning: Update your `Dense` call to the Keras 2 API: `Dense(activation=\"relu\", units=6, kernel_initializer=\"uniform\")`\n",
      "  This is separate from the ipykernel package so we can avoid doing imports until\n",
      "C:\\Users\\Bilal\\Anaconda3\\envs\\neural-network\\lib\\site-packages\\ipykernel_launcher.py:4: UserWarning: Update your `Dense` call to the Keras 2 API: `Dense(activation=\"sigmoid\", units=1, kernel_initializer=\"uniform\")`\n",
      "  after removing the cwd from sys.path.\n"
     ]
    }
   ],
   "source": [
    "classifier=Sequential()\n",
    "classifier.add(Dense(output_dim=6, init='uniform', activation='relu', input_dim=11))\n",
    "classifier.add(Dense(output_dim=6, init='uniform', activation='relu'))\n",
    "classifier.add(Dense(output_dim=1, init='uniform', activation='sigmoid'))"
   ]
  },
  {
   "cell_type": "code",
   "execution_count": 129,
   "metadata": {},
   "outputs": [],
   "source": [
    "classifier.compile(optimizer='adam',\n",
    "              loss='binary_crossentropy',\n",
    "              metrics=['accuracy']) #if  we have more then 2 varianle in output/dependent variable then we use loss function as categorical_crossentropy"
   ]
  },
  {
   "cell_type": "code",
   "execution_count": 130,
   "metadata": {},
   "outputs": [
    {
     "name": "stdout",
     "output_type": "stream",
     "text": [
      "Epoch 1/100\n",
      "8000/8000 [==============================] - 1s 114us/step - loss: 0.4896 - acc: 0.7976\n",
      "Epoch 2/100\n",
      "8000/8000 [==============================] - 1s 88us/step - loss: 0.4166 - acc: 0.8249\n",
      "Epoch 3/100\n",
      "8000/8000 [==============================] - 1s 89us/step - loss: 0.4107 - acc: 0.8281: 0s - loss: 0.4318 -\n",
      "Epoch 4/100\n",
      "8000/8000 [==============================] - 1s 89us/step - loss: 0.4069 - acc: 0.8301\n",
      "Epoch 5/100\n",
      "8000/8000 [==============================] - 1s 90us/step - loss: 0.4053 - acc: 0.8309\n",
      "Epoch 6/100\n",
      "8000/8000 [==============================] - 1s 89us/step - loss: 0.4040 - acc: 0.8322: 0s - loss: 0.4026 - acc\n",
      "Epoch 7/100\n",
      "8000/8000 [==============================] - 1s 90us/step - loss: 0.4029 - acc: 0.8345\n",
      "Epoch 8/100\n",
      "8000/8000 [==============================] - 1s 89us/step - loss: 0.4016 - acc: 0.8349\n",
      "Epoch 9/100\n",
      "8000/8000 [==============================] - 1s 89us/step - loss: 0.3999 - acc: 0.8369\n",
      "Epoch 10/100\n",
      "8000/8000 [==============================] - 1s 90us/step - loss: 0.3970 - acc: 0.8381\n",
      "Epoch 11/100\n",
      "8000/8000 [==============================] - 1s 92us/step - loss: 0.3914 - acc: 0.8415\n",
      "Epoch 12/100\n",
      "8000/8000 [==============================] - 1s 106us/step - loss: 0.3840 - acc: 0.8422\n",
      "Epoch 13/100\n",
      "8000/8000 [==============================] - 1s 93us/step - loss: 0.3767 - acc: 0.8451\n",
      "Epoch 14/100\n",
      "8000/8000 [==============================] - 1s 92us/step - loss: 0.3709 - acc: 0.8495: 0s - loss: 0.3949 \n",
      "Epoch 15/100\n",
      "8000/8000 [==============================] - 1s 94us/step - loss: 0.3665 - acc: 0.8499: 0s - loss: 0.3749 - acc\n",
      "Epoch 16/100\n",
      "8000/8000 [==============================] - 1s 93us/step - loss: 0.3628 - acc: 0.8502: 0s - loss: 0.3591 - acc: 0.\n",
      "Epoch 17/100\n",
      "8000/8000 [==============================] - 1s 93us/step - loss: 0.3603 - acc: 0.8525: 0s - loss: 0.3660 \n",
      "Epoch 18/100\n",
      "8000/8000 [==============================] - 1s 92us/step - loss: 0.3581 - acc: 0.8522\n",
      "Epoch 19/100\n",
      "8000/8000 [==============================] - 1s 98us/step - loss: 0.3557 - acc: 0.8539\n",
      "Epoch 20/100\n",
      "8000/8000 [==============================] - 1s 108us/step - loss: 0.3536 - acc: 0.8536 0s - loss: 0.361\n",
      "Epoch 21/100\n",
      "8000/8000 [==============================] - 1s 98us/step - loss: 0.3521 - acc: 0.8537\n",
      "Epoch 22/100\n",
      "8000/8000 [==============================] - 1s 95us/step - loss: 0.3503 - acc: 0.8566: 0s - loss: 0.3513 -\n",
      "Epoch 23/100\n",
      "8000/8000 [==============================] - 1s 97us/step - loss: 0.3486 - acc: 0.8554\n",
      "Epoch 24/100\n",
      "8000/8000 [==============================] - 1s 106us/step - loss: 0.3483 - acc: 0.8574\n",
      "Epoch 25/100\n",
      "8000/8000 [==============================] - 1s 93us/step - loss: 0.3473 - acc: 0.8570\n",
      "Epoch 26/100\n",
      "8000/8000 [==============================] - 1s 99us/step - loss: 0.3456 - acc: 0.8576: 0s - loss: 0.3307 - \n",
      "Epoch 27/100\n",
      "8000/8000 [==============================] - 1s 107us/step - loss: 0.3453 - acc: 0.8594\n",
      "Epoch 28/100\n",
      "8000/8000 [==============================] - 1s 100us/step - loss: 0.3445 - acc: 0.8600\n",
      "Epoch 29/100\n",
      "8000/8000 [==============================] - 1s 94us/step - loss: 0.3448 - acc: 0.8594: 0s - loss: 0.3380\n",
      "Epoch 30/100\n",
      "8000/8000 [==============================] - 1s 93us/step - loss: 0.3435 - acc: 0.8600: 0s - loss: 0.3509 -\n",
      "Epoch 31/100\n",
      "8000/8000 [==============================] - 1s 109us/step - loss: 0.3434 - acc: 0.8595 0s - loss: 0.35\n",
      "Epoch 32/100\n",
      "8000/8000 [==============================] - 1s 95us/step - loss: 0.3432 - acc: 0.8597: 0s - loss: 0.3285 - acc\n",
      "Epoch 33/100\n",
      "8000/8000 [==============================] - 1s 93us/step - loss: 0.3434 - acc: 0.8594: 0s - loss: 0.3264 - ac - ETA: 0s - loss: 0.3503 - acc: 0\n",
      "Epoch 34/100\n",
      "8000/8000 [==============================] - 1s 93us/step - loss: 0.3427 - acc: 0.8620: 0s - loss: 0.3418 - ac\n",
      "Epoch 35/100\n",
      "8000/8000 [==============================] - ETA: 0s - loss: 0.3434 - acc: 0.8593- ETA: 0s - loss: 0.3519 - acc: - 1s 92us/step - loss: 0.3429 - acc: 0.8600\n",
      "Epoch 36/100\n",
      "8000/8000 [==============================] - 1s 107us/step - loss: 0.3422 - acc: 0.8605\n",
      "Epoch 37/100\n",
      "8000/8000 [==============================] - 1s 108us/step - loss: 0.3422 - acc: 0.8604\n",
      "Epoch 38/100\n",
      "8000/8000 [==============================] - 1s 110us/step - loss: 0.3419 - acc: 0.8602\n",
      "Epoch 39/100\n",
      "8000/8000 [==============================] - 1s 96us/step - loss: 0.3421 - acc: 0.8584\n",
      "Epoch 40/100\n",
      "8000/8000 [==============================] - 1s 94us/step - loss: 0.3412 - acc: 0.8596\n",
      "Epoch 41/100\n",
      "8000/8000 [==============================] - 1s 98us/step - loss: 0.3417 - acc: 0.8600\n",
      "Epoch 42/100\n",
      "8000/8000 [==============================] - 1s 100us/step - loss: 0.3407 - acc: 0.8607\n",
      "Epoch 43/100\n",
      "8000/8000 [==============================] - 1s 93us/step - loss: 0.3415 - acc: 0.8597\n",
      "Epoch 44/100\n",
      "8000/8000 [==============================] - 1s 99us/step - loss: 0.3407 - acc: 0.8600: 0s - loss: 0.290\n",
      "Epoch 45/100\n",
      "8000/8000 [==============================] - 1s 94us/step - loss: 0.3416 - acc: 0.8604: 0s - loss: 0.3416 - acc: 0.\n",
      "Epoch 46/100\n",
      "8000/8000 [==============================] - 1s 105us/step - loss: 0.3412 - acc: 0.8592\n",
      "Epoch 47/100\n",
      "8000/8000 [==============================] - 1s 97us/step - loss: 0.3413 - acc: 0.8621\n",
      "Epoch 48/100\n",
      "8000/8000 [==============================] - 1s 101us/step - loss: 0.3409 - acc: 0.8591\n",
      "Epoch 49/100\n",
      "8000/8000 [==============================] - 1s 99us/step - loss: 0.3411 - acc: 0.8610\n",
      "Epoch 50/100\n",
      "8000/8000 [==============================] - 1s 93us/step - loss: 0.3397 - acc: 0.8607: 0s - loss: 0.3372 - acc:\n",
      "Epoch 51/100\n",
      "8000/8000 [==============================] - 1s 104us/step - loss: 0.3403 - acc: 0.8602\n",
      "Epoch 52/100\n",
      "8000/8000 [==============================] - 1s 113us/step - loss: 0.3406 - acc: 0.8602\n",
      "Epoch 53/100\n",
      "8000/8000 [==============================] - 1s 91us/step - loss: 0.3407 - acc: 0.8614\n",
      "Epoch 54/100\n",
      "8000/8000 [==============================] - 1s 100us/step - loss: 0.3415 - acc: 0.8581\n",
      "Epoch 55/100\n",
      "8000/8000 [==============================] - 1s 97us/step - loss: 0.3400 - acc: 0.8584\n",
      "Epoch 56/100\n",
      "8000/8000 [==============================] - 1s 99us/step - loss: 0.3404 - acc: 0.8610\n",
      "Epoch 57/100\n",
      "8000/8000 [==============================] - 1s 94us/step - loss: 0.3401 - acc: 0.8606\n",
      "Epoch 58/100\n",
      "8000/8000 [==============================] - 1s 102us/step - loss: 0.3408 - acc: 0.8612\n",
      "Epoch 59/100\n",
      "8000/8000 [==============================] - 1s 96us/step - loss: 0.3401 - acc: 0.8606: 0s - loss: 0.3433\n",
      "Epoch 60/100\n",
      "8000/8000 [==============================] - 1s 90us/step - loss: 0.3395 - acc: 0.8594: 0s - loss: 0.3390 - acc: 0. - ETA: 0s - loss: 0.3372 - acc: 0.86\n",
      "Epoch 61/100\n",
      "8000/8000 [==============================] - 1s 93us/step - loss: 0.3404 - acc: 0.8597: 0s - loss: 0.3351 - acc\n",
      "Epoch 62/100\n",
      "8000/8000 [==============================] - 1s 96us/step - loss: 0.3394 - acc: 0.8601: 0s - loss: 0.3346\n",
      "Epoch 63/100\n",
      "8000/8000 [==============================] - 1s 91us/step - loss: 0.3399 - acc: 0.8601: 0s - loss: 0.3369 - acc:\n",
      "Epoch 64/100\n",
      "8000/8000 [==============================] - 1s 100us/step - loss: 0.3403 - acc: 0.8601\n",
      "Epoch 65/100\n",
      "8000/8000 [==============================] - 1s 95us/step - loss: 0.3402 - acc: 0.8629\n",
      "Epoch 66/100\n",
      "8000/8000 [==============================] - 1s 98us/step - loss: 0.3392 - acc: 0.8620\n",
      "Epoch 67/100\n",
      "8000/8000 [==============================] - 1s 99us/step - loss: 0.3409 - acc: 0.8604\n",
      "Epoch 68/100\n",
      "8000/8000 [==============================] - 1s 94us/step - loss: 0.3394 - acc: 0.8599\n",
      "Epoch 69/100\n",
      "8000/8000 [==============================] - 1s 92us/step - loss: 0.3403 - acc: 0.8605\n",
      "Epoch 70/100\n",
      "8000/8000 [==============================] - 1s 94us/step - loss: 0.3398 - acc: 0.8600: 0s - loss: 0.3385 - acc: 0. - ETA: 0s - loss: 0.3391 - acc: 0.860\n",
      "Epoch 71/100\n",
      "8000/8000 [==============================] - 1s 94us/step - loss: 0.3395 - acc: 0.8600: 0s - loss: 0.3429 - acc: 0.8\n",
      "Epoch 72/100\n",
      "8000/8000 [==============================] - 1s 93us/step - loss: 0.3401 - acc: 0.8610\n",
      "Epoch 73/100\n",
      "8000/8000 [==============================] - 1s 93us/step - loss: 0.3400 - acc: 0.8607\n",
      "Epoch 74/100\n",
      "8000/8000 [==============================] - 1s 98us/step - loss: 0.3403 - acc: 0.8602\n",
      "Epoch 75/100\n"
     ]
    },
    {
     "name": "stdout",
     "output_type": "stream",
     "text": [
      "8000/8000 [==============================] - 1s 99us/step - loss: 0.3385 - acc: 0.8636\n",
      "Epoch 76/100\n",
      "8000/8000 [==============================] - 1s 93us/step - loss: 0.3395 - acc: 0.8590: 0s - loss: 0.3251 - acc:\n",
      "Epoch 77/100\n",
      "8000/8000 [==============================] - 1s 91us/step - loss: 0.3387 - acc: 0.8607\n",
      "Epoch 78/100\n",
      "8000/8000 [==============================] - 1s 90us/step - loss: 0.3392 - acc: 0.8610: 0s - loss: 0.3254 - a\n",
      "Epoch 79/100\n",
      "8000/8000 [==============================] - 1s 95us/step - loss: 0.3392 - acc: 0.8591: 0s - loss: 0.3398 - acc: 0.8\n",
      "Epoch 80/100\n",
      "8000/8000 [==============================] - 1s 89us/step - loss: 0.3397 - acc: 0.8596: 0s - loss: 0.3284 -  - ETA: 0s - loss: 0.3382 - acc: 0.860\n",
      "Epoch 81/100\n",
      "8000/8000 [==============================] - 1s 93us/step - loss: 0.3390 - acc: 0.8617: 0s - loss: 0.3392 - acc: 0.861\n",
      "Epoch 82/100\n",
      "8000/8000 [==============================] - 1s 92us/step - loss: 0.3389 - acc: 0.8595: 0s - loss: 0.3482 - a\n",
      "Epoch 83/100\n",
      "8000/8000 [==============================] - 1s 93us/step - loss: 0.3397 - acc: 0.8595: 0s - loss: 0.3376 - acc\n",
      "Epoch 84/100\n",
      "8000/8000 [==============================] - 1s 93us/step - loss: 0.3392 - acc: 0.8617\n",
      "Epoch 85/100\n",
      "8000/8000 [==============================] - 1s 93us/step - loss: 0.3396 - acc: 0.8606\n",
      "Epoch 86/100\n",
      "8000/8000 [==============================] - 1s 93us/step - loss: 0.3388 - acc: 0.8625: 0s - loss: 0.3194\n",
      "Epoch 87/100\n",
      "8000/8000 [==============================] - 1s 93us/step - loss: 0.3397 - acc: 0.8602: 0s - loss: 0.3415 - acc: 0.\n",
      "Epoch 88/100\n",
      "8000/8000 [==============================] - 1s 94us/step - loss: 0.3390 - acc: 0.8614: 0s - loss: 0.3556 -\n",
      "Epoch 89/100\n",
      "8000/8000 [==============================] - 1s 102us/step - loss: 0.3387 - acc: 0.8609 0s - loss: 0.33\n",
      "Epoch 90/100\n",
      "8000/8000 [==============================] - 1s 96us/step - loss: 0.3384 - acc: 0.8609\n",
      "Epoch 91/100\n",
      "8000/8000 [==============================] - 1s 95us/step - loss: 0.3389 - acc: 0.8610\n",
      "Epoch 92/100\n",
      "8000/8000 [==============================] - 1s 99us/step - loss: 0.3396 - acc: 0.8632: 0s - loss: 0.3419 - acc: 0.86\n",
      "Epoch 93/100\n",
      "8000/8000 [==============================] - 1s 112us/step - loss: 0.3386 - acc: 0.8611\n",
      "Epoch 94/100\n",
      "8000/8000 [==============================] - 1s 94us/step - loss: 0.3389 - acc: 0.8611: 0s - loss: 0.3391 - acc: 0.\n",
      "Epoch 95/100\n",
      "8000/8000 [==============================] - 1s 94us/step - loss: 0.3391 - acc: 0.8607\n",
      "Epoch 96/100\n",
      "8000/8000 [==============================] - 1s 94us/step - loss: 0.3381 - acc: 0.8602\n",
      "Epoch 97/100\n",
      "8000/8000 [==============================] - 1s 98us/step - loss: 0.3393 - acc: 0.8592\n",
      "Epoch 98/100\n",
      "8000/8000 [==============================] - 1s 91us/step - loss: 0.3386 - acc: 0.8609\n",
      "Epoch 99/100\n",
      "8000/8000 [==============================] - 1s 91us/step - loss: 0.3382 - acc: 0.8600\n",
      "Epoch 100/100\n",
      "8000/8000 [==============================] - 1s 92us/step - loss: 0.3390 - acc: 0.8600\n"
     ]
    }
   ],
   "source": [
    "hist = classifier.fit(X_train, y_train,\n",
    "          batch_size=10, epochs=100) #batch size after no of iteration you want to update the weight"
   ]
  },
  {
   "cell_type": "code",
   "execution_count": null,
   "metadata": {},
   "outputs": [],
   "source": []
  },
  {
   "cell_type": "code",
   "execution_count": null,
   "metadata": {},
   "outputs": [],
   "source": []
  },
  {
   "cell_type": "code",
   "execution_count": null,
   "metadata": {},
   "outputs": [],
   "source": []
  },
  {
   "cell_type": "code",
   "execution_count": 131,
   "metadata": {},
   "outputs": [],
   "source": [
    "y_pred=classifier.predict(X_test)"
   ]
  },
  {
   "cell_type": "code",
   "execution_count": 132,
   "metadata": {},
   "outputs": [
    {
     "data": {
      "text/plain": [
       "array([[0.21163717],\n",
       "       [0.3174422 ],\n",
       "       [0.14998934],\n",
       "       ...,\n",
       "       [0.1258736 ],\n",
       "       [0.09994161],\n",
       "       [0.22124133]], dtype=float32)"
      ]
     },
     "execution_count": 132,
     "metadata": {},
     "output_type": "execute_result"
    }
   ],
   "source": [
    "y_pred"
   ]
  },
  {
   "cell_type": "code",
   "execution_count": 133,
   "metadata": {},
   "outputs": [],
   "source": [
    "y_pred=(y_pred>0.5)"
   ]
  },
  {
   "cell_type": "code",
   "execution_count": 137,
   "metadata": {},
   "outputs": [
    {
     "data": {
      "text/plain": [
       "array([[False],\n",
       "       [False],\n",
       "       [False],\n",
       "       [False],\n",
       "       [False],\n",
       "       [ True],\n",
       "       [False],\n",
       "       [False],\n",
       "       [False],\n",
       "       [ True],\n",
       "       [False],\n",
       "       [False],\n",
       "       [False],\n",
       "       [False],\n",
       "       [ True],\n",
       "       [ True],\n",
       "       [False],\n",
       "       [False],\n",
       "       [False],\n",
       "       [False],\n",
       "       [ True],\n",
       "       [False],\n",
       "       [False],\n",
       "       [False],\n",
       "       [False],\n",
       "       [False],\n",
       "       [False],\n",
       "       [False],\n",
       "       [False],\n",
       "       [False]])"
      ]
     },
     "execution_count": 137,
     "metadata": {},
     "output_type": "execute_result"
    }
   ],
   "source": [
    "y_pred[0:30]"
   ]
  },
  {
   "cell_type": "code",
   "execution_count": 138,
   "metadata": {},
   "outputs": [],
   "source": [
    "from sklearn.metrics import confusion_matrix\n",
    "cm=confusion_matrix(y_test, y_pred)"
   ]
  },
  {
   "cell_type": "code",
   "execution_count": 139,
   "metadata": {},
   "outputs": [
    {
     "data": {
      "text/plain": [
       "array([[1491,  104],\n",
       "       [ 193,  212]], dtype=int64)"
      ]
     },
     "execution_count": 139,
     "metadata": {},
     "output_type": "execute_result"
    }
   ],
   "source": [
    "cm"
   ]
  },
  {
   "cell_type": "code",
   "execution_count": 140,
   "metadata": {},
   "outputs": [
    {
     "data": {
      "text/plain": [
       "0.8515"
      ]
     },
     "execution_count": 140,
     "metadata": {},
     "output_type": "execute_result"
    }
   ],
   "source": [
    "accuracy=(1491+212)/(1491+212+104+193)\n",
    "accuracy"
   ]
  },
  {
   "cell_type": "code",
   "execution_count": null,
   "metadata": {},
   "outputs": [],
   "source": []
  }
 ],
 "metadata": {
  "kernelspec": {
   "display_name": "Python 3",
   "language": "python",
   "name": "python3"
  },
  "language_info": {
   "codemirror_mode": {
    "name": "ipython",
    "version": 3
   },
   "file_extension": ".py",
   "mimetype": "text/x-python",
   "name": "python",
   "nbconvert_exporter": "python",
   "pygments_lexer": "ipython3",
   "version": "3.7.5"
  }
 },
 "nbformat": 4,
 "nbformat_minor": 2
}
