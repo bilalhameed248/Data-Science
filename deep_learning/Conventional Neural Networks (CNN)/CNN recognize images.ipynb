{
 "cells": [
  {
   "cell_type": "code",
   "execution_count": 1,
   "metadata": {},
   "outputs": [
    {
     "name": "stderr",
     "output_type": "stream",
     "text": [
      "Using TensorFlow backend.\n"
     ]
    }
   ],
   "source": [
    "import matplotlib.pyplot as plt\n",
    "%matplotlib inline\n",
    "import keras\n",
    "from keras.models import Sequential\n",
    "from keras.layers import Dense, Dropout, Flatten, Conv2D, MaxPooling2D"
   ]
  },
  {
   "cell_type": "code",
   "execution_count": 2,
   "metadata": {},
   "outputs": [],
   "source": [
    "from keras.datasets import cifar10\n",
    "(x_train, y_train), (x_test, y_test) = cifar10.load_data()"
   ]
  },
  {
   "cell_type": "code",
   "execution_count": 3,
   "metadata": {},
   "outputs": [
    {
     "data": {
      "image/png": "[encoded data removed]",
      "text/plain": [
       "<Figure size 432x288 with 1 Axes>"
      ]
     },
     "metadata": {
      "needs_background": "light"
     },
     "output_type": "display_data"
    }
   ],
   "source": [
    "img = plt.imshow(x_train[0])"
   ]
  },
  {
   "cell_type": "code",
   "execution_count": 4,
   "metadata": {},
   "outputs": [
    {
     "data": {
      "text/plain": [
       "array([6], dtype=uint8)"
      ]
     },
     "execution_count": 4,
     "metadata": {},
     "output_type": "execute_result"
    }
   ],
   "source": [
    "y_train[0]"
   ]
  },
  {
   "cell_type": "code",
   "execution_count": 5,
   "metadata": {},
   "outputs": [],
   "source": [
    "y_train_one_hot = keras.utils.to_categorical(y_train, 10)\n",
    "y_test_one_hot = keras.utils.to_categorical(y_test, 10)"
   ]
  },
  {
   "cell_type": "code",
   "execution_count": 6,
   "metadata": {},
   "outputs": [],
   "source": [
    "x_train = x_train.astype('float32')\n",
    "x_test = x_test.astype('float32')\n",
    "x_train = x_train / 255\n",
    "x_test = x_test / 255"
   ]
  },
  {
   "cell_type": "markdown",
   "metadata": {},
   "source": [
    "## Setting up the Architecture"
   ]
  },
  {
   "cell_type": "code",
   "execution_count": 14,
   "metadata": {},
   "outputs": [],
   "source": [
    "model = Sequential()"
   ]
  },
  {
   "cell_type": "code",
   "execution_count": 15,
   "metadata": {},
   "outputs": [],
   "source": [
    "model.add(Conv2D(32, (3, 3), activation='relu', padding='same', input_shape=(32,32,3)))\n",
    "model.add(Conv2D(32, (3, 3), activation='relu', padding='same'))\n",
    "model.add(MaxPooling2D(pool_size=(2, 2)))\n",
    "model.add(Dropout(0.25))"
   ]
  },
  {
   "cell_type": "code",
   "execution_count": 17,
   "metadata": {},
   "outputs": [],
   "source": [
    "model.add(Conv2D(64, (3, 3), activation='relu', padding='same'))\n",
    "model.add(Conv2D(64, (3, 3), activation='relu', padding='same'))\n",
    "model.add(MaxPooling2D(pool_size=(2, 2)))\n",
    "model.add(Dropout(0.25))"
   ]
  },
  {
   "cell_type": "code",
   "execution_count": 18,
   "metadata": {},
   "outputs": [],
   "source": [
    "model.add(Flatten())\n",
    "model.add(Dense(512, activation='relu'))\n",
    "model.add(Dropout(0.5))\n",
    "model.add(Dense(10, activation='softmax'))"
   ]
  },
  {
   "cell_type": "code",
   "execution_count": 19,
   "metadata": {},
   "outputs": [
    {
     "name": "stdout",
     "output_type": "stream",
     "text": [
      "_________________________________________________________________\n",
      "Layer (type)                 Output Shape              Param #   \n",
      "=================================================================\n",
      "conv2d_7 (Conv2D)            (None, 32, 32, 32)        896       \n",
      "_________________________________________________________________\n",
      "conv2d_8 (Conv2D)            (None, 32, 32, 32)        9248      \n",
      "_________________________________________________________________\n",
      "max_pooling2d_4 (MaxPooling2 (None, 16, 16, 32)        0         \n",
      "_________________________________________________________________\n",
      "dropout_5 (Dropout)          (None, 16, 16, 32)        0         \n",
      "_________________________________________________________________\n",
      "conv2d_9 (Conv2D)            (None, 16, 16, 64)        18496     \n",
      "_________________________________________________________________\n",
      "conv2d_10 (Conv2D)           (None, 16, 16, 64)        36928     \n",
      "_________________________________________________________________\n",
      "max_pooling2d_5 (MaxPooling2 (None, 8, 8, 64)          0         \n",
      "_________________________________________________________________\n",
      "dropout_6 (Dropout)          (None, 8, 8, 64)          0         \n",
      "_________________________________________________________________\n",
      "flatten_2 (Flatten)          (None, 4096)              0         \n",
      "_________________________________________________________________\n",
      "dense_3 (Dense)              (None, 512)               2097664   \n",
      "_________________________________________________________________\n",
      "dropout_7 (Dropout)          (None, 512)               0         \n",
      "_________________________________________________________________\n",
      "dense_4 (Dense)              (None, 10)                5130      \n",
      "=================================================================\n",
      "Total params: 2,168,362\n",
      "Trainable params: 2,168,362\n",
      "Non-trainable params: 0\n",
      "_________________________________________________________________\n"
     ]
    }
   ],
   "source": [
    "model.summary()"
   ]
  },
  {
   "cell_type": "code",
   "execution_count": 20,
   "metadata": {},
   "outputs": [
    {
     "name": "stdout",
     "output_type": "stream",
     "text": [
      "WARNING:tensorflow:From C:\\Users\\Bilal\\Anaconda3\\envs\\neural-network\\lib\\site-packages\\keras\\optimizers.py:790: The name tf.train.Optimizer is deprecated. Please use tf.compat.v1.train.Optimizer instead.\n",
      "\n",
      "WARNING:tensorflow:From C:\\Users\\Bilal\\Anaconda3\\envs\\neural-network\\lib\\site-packages\\keras\\backend\\tensorflow_backend.py:3295: The name tf.log is deprecated. Please use tf.math.log instead.\n",
      "\n"
     ]
    }
   ],
   "source": [
    "model.compile(loss='categorical_crossentropy',\n",
    "              optimizer='adam',\n",
    "              metrics=['accuracy'])"
   ]
  },
  {
   "cell_type": "code",
   "execution_count": 21,
   "metadata": {},
   "outputs": [
    {
     "name": "stdout",
     "output_type": "stream",
     "text": [
      "WARNING:tensorflow:From C:\\Users\\Bilal\\Anaconda3\\envs\\neural-network\\lib\\site-packages\\tensorflow_core\\python\\ops\\math_grad.py:1424: where (from tensorflow.python.ops.array_ops) is deprecated and will be removed in a future version.\n",
      "Instructions for updating:\n",
      "Use tf.where in 2.0, which has the same broadcast rule as np.where\n",
      "WARNING:tensorflow:From C:\\Users\\Bilal\\Anaconda3\\envs\\neural-network\\lib\\site-packages\\keras\\backend\\tensorflow_backend.py:986: The name tf.assign_add is deprecated. Please use tf.compat.v1.assign_add instead.\n",
      "\n",
      "WARNING:tensorflow:From C:\\Users\\Bilal\\Anaconda3\\envs\\neural-network\\lib\\site-packages\\keras\\backend\\tensorflow_backend.py:973: The name tf.assign is deprecated. Please use tf.compat.v1.assign instead.\n",
      "\n",
      "WARNING:tensorflow:From C:\\Users\\Bilal\\Anaconda3\\envs\\neural-network\\lib\\site-packages\\keras\\backend\\tensorflow_backend.py:2741: The name tf.Session is deprecated. Please use tf.compat.v1.Session instead.\n",
      "\n",
      "Train on 40000 samples, validate on 10000 samples\n",
      "Epoch 1/40\n",
      "WARNING:tensorflow:From C:\\Users\\Bilal\\Anaconda3\\envs\\neural-network\\lib\\site-packages\\keras\\backend\\tensorflow_backend.py:174: The name tf.get_default_session is deprecated. Please use tf.compat.v1.get_default_session instead.\n",
      "\n",
      "WARNING:tensorflow:From C:\\Users\\Bilal\\Anaconda3\\envs\\neural-network\\lib\\site-packages\\keras\\backend\\tensorflow_backend.py:181: The name tf.ConfigProto is deprecated. Please use tf.compat.v1.ConfigProto instead.\n",
      "\n",
      "WARNING:tensorflow:From C:\\Users\\Bilal\\Anaconda3\\envs\\neural-network\\lib\\site-packages\\keras\\backend\\tensorflow_backend.py:190: The name tf.global_variables is deprecated. Please use tf.compat.v1.global_variables instead.\n",
      "\n",
      "WARNING:tensorflow:From C:\\Users\\Bilal\\Anaconda3\\envs\\neural-network\\lib\\site-packages\\keras\\backend\\tensorflow_backend.py:199: The name tf.is_variable_initialized is deprecated. Please use tf.compat.v1.is_variable_initialized instead.\n",
      "\n",
      "WARNING:tensorflow:From C:\\Users\\Bilal\\Anaconda3\\envs\\neural-network\\lib\\site-packages\\keras\\backend\\tensorflow_backend.py:206: The name tf.variables_initializer is deprecated. Please use tf.compat.v1.variables_initializer instead.\n",
      "\n",
      "40000/40000 [==============================] - 347s 9ms/step - loss: 1.5882 - acc: 0.4201 - val_loss: 1.2518 - val_acc: 0.5493\n",
      "Epoch 2/40\n",
      "40000/40000 [==============================] - 162s 4ms/step - loss: 1.1604 - acc: 0.5852 - val_loss: 0.9627 - val_acc: 0.6593\n",
      "Epoch 3/40\n",
      "40000/40000 [==============================] - 147s 4ms/step - loss: 1.0003 - acc: 0.6457 - val_loss: 0.8822 - val_acc: 0.6861\n",
      "Epoch 4/40\n",
      "40000/40000 [==============================] - 146s 4ms/step - loss: 0.8983 - acc: 0.6857 - val_loss: 0.8026 - val_acc: 0.7133\n",
      "Epoch 5/40\n",
      "40000/40000 [==============================] - 145s 4ms/step - loss: 0.8123 - acc: 0.7138 - val_loss: 0.7476 - val_acc: 0.7405\n",
      "Epoch 6/40\n",
      "40000/40000 [==============================] - 145s 4ms/step - loss: 0.7625 - acc: 0.7350 - val_loss: 0.7184 - val_acc: 0.7469\n",
      "Epoch 7/40\n",
      "40000/40000 [==============================] - 145s 4ms/step - loss: 0.7002 - acc: 0.7549 - val_loss: 0.7007 - val_acc: 0.7582\n",
      "Epoch 8/40\n",
      "40000/40000 [==============================] - 145s 4ms/step - loss: 0.6639 - acc: 0.7671 - val_loss: 0.7128 - val_acc: 0.7508\n",
      "Epoch 9/40\n",
      "40000/40000 [==============================] - 212s 5ms/step - loss: 0.6240 - acc: 0.7775 - val_loss: 0.6790 - val_acc: 0.7686\n",
      "Epoch 10/40\n",
      "40000/40000 [==============================] - 238s 6ms/step - loss: 0.5967 - acc: 0.7908 - val_loss: 0.6794 - val_acc: 0.7677\n",
      "Epoch 11/40\n",
      "40000/40000 [==============================] - 269s 7ms/step - loss: 0.5659 - acc: 0.8005 - val_loss: 0.6908 - val_acc: 0.7693\n",
      "Epoch 12/40\n",
      "40000/40000 [==============================] - 191s 5ms/step - loss: 0.5382 - acc: 0.8116 - val_loss: 0.6756 - val_acc: 0.7743\n",
      "Epoch 13/40\n",
      "40000/40000 [==============================] - 236s 6ms/step - loss: 0.5132 - acc: 0.8176 - val_loss: 0.6880 - val_acc: 0.7747\n",
      "Epoch 14/40\n",
      "40000/40000 [==============================] - 239s 6ms/step - loss: 0.4950 - acc: 0.8238 - val_loss: 0.6839 - val_acc: 0.7752\n",
      "Epoch 15/40\n",
      "40000/40000 [==============================] - 237s 6ms/step - loss: 0.4794 - acc: 0.8318 - val_loss: 0.6685 - val_acc: 0.7855\n",
      "Epoch 16/40\n",
      "40000/40000 [==============================] - 239s 6ms/step - loss: 0.4581 - acc: 0.8386 - val_loss: 0.6977 - val_acc: 0.7793\n",
      "Epoch 17/40\n",
      "40000/40000 [==============================] - 242s 6ms/step - loss: 0.4482 - acc: 0.8423 - val_loss: 0.6808 - val_acc: 0.7797\n",
      "Epoch 18/40\n",
      "40000/40000 [==============================] - 239s 6ms/step - loss: 0.4430 - acc: 0.8452 - val_loss: 0.6712 - val_acc: 0.7878\n",
      "Epoch 19/40\n",
      "40000/40000 [==============================] - 239s 6ms/step - loss: 0.4197 - acc: 0.8535 - val_loss: 0.6701 - val_acc: 0.7888\n",
      "Epoch 20/40\n",
      "40000/40000 [==============================] - 240s 6ms/step - loss: 0.4160 - acc: 0.8563 - val_loss: 0.7033 - val_acc: 0.7793\n",
      "Epoch 21/40\n",
      "40000/40000 [==============================] - 239s 6ms/step - loss: 0.4004 - acc: 0.8594 - val_loss: 0.7050 - val_acc: 0.7820\n",
      "Epoch 22/40\n",
      "40000/40000 [==============================] - 239s 6ms/step - loss: 0.3882 - acc: 0.8653 - val_loss: 0.7000 - val_acc: 0.7830\n",
      "Epoch 23/40\n",
      "40000/40000 [==============================] - 216s 5ms/step - loss: 0.3812 - acc: 0.8670 - val_loss: 0.7108 - val_acc: 0.7809\n",
      "Epoch 24/40\n",
      "40000/40000 [==============================] - 147s 4ms/step - loss: 0.3844 - acc: 0.8661 - val_loss: 0.7067 - val_acc: 0.7830\n",
      "Epoch 25/40\n",
      "40000/40000 [==============================] - 147s 4ms/step - loss: 0.3683 - acc: 0.8717 - val_loss: 0.6969 - val_acc: 0.7875\n",
      "Epoch 26/40\n",
      "40000/40000 [==============================] - 149s 4ms/step - loss: 0.3693 - acc: 0.8720 - val_loss: 0.7061 - val_acc: 0.7858\n",
      "Epoch 27/40\n",
      "40000/40000 [==============================] - 147s 4ms/step - loss: 0.3541 - acc: 0.8777 - val_loss: 0.7043 - val_acc: 0.7862\n",
      "Epoch 28/40\n",
      "40000/40000 [==============================] - 148s 4ms/step - loss: 0.3494 - acc: 0.8794 - val_loss: 0.7241 - val_acc: 0.7801\n",
      "Epoch 29/40\n",
      "40000/40000 [==============================] - 147s 4ms/step - loss: 0.3410 - acc: 0.8818 - val_loss: 0.7119 - val_acc: 0.7845\n",
      "Epoch 30/40\n",
      "40000/40000 [==============================] - 149s 4ms/step - loss: 0.3341 - acc: 0.8840 - val_loss: 0.7349 - val_acc: 0.7883\n",
      "Epoch 31/40\n",
      "40000/40000 [==============================] - 150s 4ms/step - loss: 0.3308 - acc: 0.8849 - val_loss: 0.7556 - val_acc: 0.7778\n",
      "Epoch 32/40\n",
      "40000/40000 [==============================] - 151s 4ms/step - loss: 0.3328 - acc: 0.8836 - val_loss: 0.7576 - val_acc: 0.7769\n",
      "Epoch 33/40\n",
      "40000/40000 [==============================] - 148s 4ms/step - loss: 0.3241 - acc: 0.8896 - val_loss: 0.7099 - val_acc: 0.7899\n",
      "Epoch 34/40\n",
      "40000/40000 [==============================] - 177s 4ms/step - loss: 0.3197 - acc: 0.8898 - val_loss: 0.7291 - val_acc: 0.7921\n",
      "Epoch 35/40\n",
      "40000/40000 [==============================] - 150s 4ms/step - loss: 0.3153 - acc: 0.8908 - val_loss: 0.7590 - val_acc: 0.7863\n",
      "Epoch 36/40\n",
      "40000/40000 [==============================] - 152s 4ms/step - loss: 0.3182 - acc: 0.8916 - val_loss: 0.7222 - val_acc: 0.7824\n",
      "Epoch 37/40\n",
      "40000/40000 [==============================] - 167s 4ms/step - loss: 0.3181 - acc: 0.8918 - val_loss: 0.7051 - val_acc: 0.7891\n",
      "Epoch 38/40\n",
      "40000/40000 [==============================] - 159s 4ms/step - loss: 0.3079 - acc: 0.8945 - val_loss: 0.7641 - val_acc: 0.7864\n",
      "Epoch 39/40\n",
      "40000/40000 [==============================] - 155s 4ms/step - loss: 0.3011 - acc: 0.8979 - val_loss: 0.8437 - val_acc: 0.7830\n",
      "Epoch 40/40\n",
      "40000/40000 [==============================] - 155s 4ms/step - loss: 0.2988 - acc: 0.8973 - val_loss: 0.7733 - val_acc: 0.7861\n"
     ]
    }
   ],
   "source": [
    "hist = model.fit(x_train, y_train_one_hot, \n",
    "           batch_size=32, epochs=40, \n",
    "           validation_split=0.2)"
   ]
  },
  {
   "cell_type": "code",
   "execution_count": 22,
   "metadata": {},
   "outputs": [
    {
     "data": {
      "image/png": "[encoded data removed]",
      "text/plain": [
       "<Figure size 432x288 with 1 Axes>"
      ]
     },
     "metadata": {
      "needs_background": "light"
     },
     "output_type": "display_data"
    }
   ],
   "source": [
    "plt.plot(hist.history['loss'])\n",
    "plt.plot(hist.history['val_loss'])\n",
    "plt.title('Model loss')\n",
    "plt.ylabel('Loss')\n",
    "plt.xlabel('Epoch')\n",
    "plt.legend(['Train', 'Val'], loc='upper right')\n",
    "plt.show()"
   ]
  },
  {
   "cell_type": "code",
   "execution_count": 23,
   "metadata": {},
   "outputs": [
    {
     "data": {
      "image/png": "[encoded data removed]",
      "text/plain": [
       "<Figure size 432x288 with 1 Axes>"
      ]
     },
     "metadata": {
      "needs_background": "light"
     },
     "output_type": "display_data"
    }
   ],
   "source": [
    "plt.plot(hist.history['acc'])\n",
    "plt.plot(hist.history['val_acc'])\n",
    "plt.title('Model accuracy')\n",
    "plt.ylabel('Accuracy')\n",
    "plt.xlabel('Epoch')\n",
    "plt.legend(['Train', 'Val'], loc='lower right')\n",
    "plt.show()"
   ]
  },
  {
   "cell_type": "code",
   "execution_count": 24,
   "metadata": {},
   "outputs": [
    {
     "name": "stdout",
     "output_type": "stream",
     "text": [
      "10000/10000 [==============================] - 13s 1ms/step\n"
     ]
    },
    {
     "data": {
      "text/plain": [
       "0.7813"
      ]
     },
     "execution_count": 24,
     "metadata": {},
     "output_type": "execute_result"
    }
   ],
   "source": [
    "model.evaluate(x_test, y_test_one_hot)[1]"
   ]
  },
  {
   "cell_type": "code",
   "execution_count": 25,
   "metadata": {},
   "outputs": [],
   "source": [
    "model.save('my_cifar10_model.h5')"
   ]
  },
  {
   "cell_type": "code",
   "execution_count": 13,
   "metadata": {},
   "outputs": [
    {
     "name": "stdout",
     "output_type": "stream",
     "text": [
      "WARNING:tensorflow:From C:\\Users\\Bilal\\Anaconda3\\envs\\neural-network\\lib\\site-packages\\keras\\backend\\tensorflow_backend.py:174: The name tf.get_default_session is deprecated. Please use tf.compat.v1.get_default_session instead.\n",
      "\n",
      "WARNING:tensorflow:From C:\\Users\\Bilal\\Anaconda3\\envs\\neural-network\\lib\\site-packages\\keras\\backend\\tensorflow_backend.py:181: The name tf.ConfigProto is deprecated. Please use tf.compat.v1.ConfigProto instead.\n",
      "\n",
      "WARNING:tensorflow:From C:\\Users\\Bilal\\Anaconda3\\envs\\neural-network\\lib\\site-packages\\keras\\backend\\tensorflow_backend.py:186: The name tf.Session is deprecated. Please use tf.compat.v1.Session instead.\n",
      "\n",
      "WARNING:tensorflow:From C:\\Users\\Bilal\\Anaconda3\\envs\\neural-network\\lib\\site-packages\\keras\\backend\\tensorflow_backend.py:190: The name tf.global_variables is deprecated. Please use tf.compat.v1.global_variables instead.\n",
      "\n",
      "WARNING:tensorflow:From C:\\Users\\Bilal\\Anaconda3\\envs\\neural-network\\lib\\site-packages\\keras\\backend\\tensorflow_backend.py:199: The name tf.is_variable_initialized is deprecated. Please use tf.compat.v1.is_variable_initialized instead.\n",
      "\n",
      "WARNING:tensorflow:From C:\\Users\\Bilal\\Anaconda3\\envs\\neural-network\\lib\\site-packages\\keras\\backend\\tensorflow_backend.py:206: The name tf.variables_initializer is deprecated. Please use tf.compat.v1.variables_initializer instead.\n",
      "\n",
      "WARNING:tensorflow:From C:\\Users\\Bilal\\Anaconda3\\envs\\neural-network\\lib\\site-packages\\tensorflow_core\\python\\ops\\math_grad.py:1424: where (from tensorflow.python.ops.array_ops) is deprecated and will be removed in a future version.\n",
      "Instructions for updating:\n",
      "Use tf.where in 2.0, which has the same broadcast rule as np.where\n",
      "WARNING:tensorflow:From C:\\Users\\Bilal\\Anaconda3\\envs\\neural-network\\lib\\site-packages\\keras\\backend\\tensorflow_backend.py:986: The name tf.assign_add is deprecated. Please use tf.compat.v1.assign_add instead.\n",
      "\n",
      "WARNING:tensorflow:From C:\\Users\\Bilal\\Anaconda3\\envs\\neural-network\\lib\\site-packages\\keras\\backend\\tensorflow_backend.py:973: The name tf.assign is deprecated. Please use tf.compat.v1.assign instead.\n",
      "\n"
     ]
    }
   ],
   "source": [
    "from keras.models import load_model\n",
    "model = load_model('my_cifar10_model.h5')"
   ]
  },
  {
   "cell_type": "markdown",
   "metadata": {},
   "source": [
    "## Testing out with your own images"
   ]
  },
  {
   "cell_type": "code",
   "execution_count": 26,
   "metadata": {},
   "outputs": [],
   "source": [
    "my_image = plt.imread(\"cat.jpg\")"
   ]
  },
  {
   "cell_type": "code",
   "execution_count": 27,
   "metadata": {},
   "outputs": [],
   "source": [
    "from skimage.transform import resize\n",
    "my_image_resized = resize(my_image, (32,32,3))"
   ]
  },
  {
   "cell_type": "code",
   "execution_count": 28,
   "metadata": {},
   "outputs": [
    {
     "data": {
      "text/plain": [
       "array([[[0.72647059, 0.72647059, 0.75784314],\n",
       "        [0.67622549, 0.6814951 , 0.71286765],\n",
       "        [0.64693627, 0.65870098, 0.6939951 ],\n",
       "        ...,\n",
       "        [0.44571078, 0.47316176, 0.49669118],\n",
       "        [0.45747549, 0.48597963, 0.51151961],\n",
       "        [0.46139706, 0.49669118, 0.52414216]],\n",
       "\n",
       "       [[0.71213235, 0.71213235, 0.7435049 ],\n",
       "        [0.66580882, 0.67056143, 0.70492877],\n",
       "        [0.64313343, 0.65489813, 0.69019225],\n",
       "        ...,\n",
       "        [0.41960784, 0.44705882, 0.47058824],\n",
       "        [0.43137255, 0.45882353, 0.48235294],\n",
       "        [0.43529412, 0.46892233, 0.49411765]],\n",
       "\n",
       "       [[0.69710095, 0.69710095, 0.7284735 ],\n",
       "        [0.65404412, 0.65820695, 0.69105775],\n",
       "        [0.63529412, 0.64705882, 0.68226486],\n",
       "        ...,\n",
       "        [0.41164216, 0.43909314, 0.46262255],\n",
       "        [0.42046952, 0.45036382, 0.4745098 ],\n",
       "        [0.42352941, 0.45490196, 0.48235294]],\n",
       "\n",
       "       ...,\n",
       "\n",
       "       [[0.72156863, 0.70980392, 0.69019608],\n",
       "        [0.71764706, 0.70980392, 0.69019608],\n",
       "        [0.70588235, 0.70196078, 0.68235294],\n",
       "        ...,\n",
       "        [0.71666667, 0.73504902, 0.72720588],\n",
       "        [0.70870098, 0.72830882, 0.72046569],\n",
       "        [0.70759804, 0.72830882, 0.71936275]],\n",
       "\n",
       "       [[0.72151884, 0.70980392, 0.69019608],\n",
       "        [0.70980392, 0.70196078, 0.68235294],\n",
       "        [0.69411765, 0.69019608, 0.67058824],\n",
       "        ...,\n",
       "        [0.70980392, 0.71752834, 0.70196078],\n",
       "        [0.70588235, 0.71764706, 0.7057598 ],\n",
       "        [0.70968137, 0.71764706, 0.70588235]],\n",
       "\n",
       "       [[0.73670726, 0.7254902 , 0.70588235],\n",
       "        [0.7235792 , 0.71372549, 0.69411765],\n",
       "        [0.71629902, 0.71237745, 0.69276961],\n",
       "        ...,\n",
       "        [0.74125689, 0.74125689, 0.72557062],\n",
       "        [0.73198529, 0.73333333, 0.71764706],\n",
       "        [0.72941176, 0.73333333, 0.71764706]]])"
      ]
     },
     "execution_count": 28,
     "metadata": {},
     "output_type": "execute_result"
    }
   ],
   "source": [
    "my_image_resized"
   ]
  },
  {
   "cell_type": "code",
   "execution_count": 29,
   "metadata": {},
   "outputs": [
    {
     "data": {
      "image/png": "[encoded data removed]",
      "text/plain": [
       "<Figure size 432x288 with 1 Axes>"
      ]
     },
     "metadata": {
      "needs_background": "light"
     },
     "output_type": "display_data"
    }
   ],
   "source": [
    "img = plt.imshow(my_image_resized)"
   ]
  },
  {
   "cell_type": "code",
   "execution_count": 30,
   "metadata": {},
   "outputs": [],
   "source": [
    "import numpy as np\n",
    "probabilities = model.predict(np.array( [my_image_resized,] ))"
   ]
  },
  {
   "cell_type": "code",
   "execution_count": 31,
   "metadata": {},
   "outputs": [
    {
     "data": {
      "text/plain": [
       "0.74794245"
      ]
     },
     "execution_count": 31,
     "metadata": {},
     "output_type": "execute_result"
    }
   ],
   "source": [
    "probabilities.max()"
   ]
  },
  {
   "cell_type": "code",
   "execution_count": 32,
   "metadata": {},
   "outputs": [
    {
     "name": "stdout",
     "output_type": "stream",
     "text": [
      "Most likely class: dog -- Probability: 0.74794245\n",
      "Second most likely class: cat -- Probability: 0.23166004\n",
      "Third most likely class: frog -- Probability: 0.010389456\n",
      "Fourth most likely class: horse -- Probability: 0.0062480234\n",
      "Fifth most likely class: deer -- Probability: 0.0034419491\n"
     ]
    }
   ],
   "source": [
    "number_to_class = ['airplane', 'automobile', 'bird', 'cat', 'deer', 'dog', 'frog', 'horse', 'ship', 'truck']\n",
    "index = np.argsort(probabilities[0,:])\n",
    "print(\"Most likely class:\", number_to_class[index[9]], \"-- Probability:\", probabilities[0,index[9]])\n",
    "print(\"Second most likely class:\", number_to_class[index[8]], \"-- Probability:\", probabilities[0,index[8]])\n",
    "print(\"Third most likely class:\", number_to_class[index[7]], \"-- Probability:\", probabilities[0,index[7]])\n",
    "print(\"Fourth most likely class:\", number_to_class[index[6]], \"-- Probability:\", probabilities[0,index[6]])\n",
    "print(\"Fifth most likely class:\", number_to_class[index[5]], \"-- Probability:\", probabilities[0,index[5]])"
   ]
  },
  {
   "cell_type": "code",
   "execution_count": null,
   "metadata": {},
   "outputs": [],
   "source": []
  },
  {
   "cell_type": "code",
   "execution_count": null,
   "metadata": {},
   "outputs": [],
   "source": []
  },
  {
   "cell_type": "code",
   "execution_count": null,
   "metadata": {},
   "outputs": [],
   "source": []
  },
  {
   "cell_type": "code",
   "execution_count": null,
   "metadata": {},
   "outputs": [],
   "source": []
  },
  {
   "cell_type": "code",
   "execution_count": null,
   "metadata": {},
   "outputs": [],
   "source": []
  },
  {
   "cell_type": "code",
   "execution_count": null,
   "metadata": {},
   "outputs": [],
   "source": []
  },
  {
   "cell_type": "code",
   "execution_count": null,
   "metadata": {},
   "outputs": [],
   "source": []
  },
  {
   "cell_type": "code",
   "execution_count": null,
   "metadata": {},
   "outputs": [],
   "source": []
  },
  {
   "cell_type": "code",
   "execution_count": null,
   "metadata": {},
   "outputs": [],
   "source": []
  },
  {
   "cell_type": "code",
   "execution_count": null,
   "metadata": {},
   "outputs": [],
   "source": []
  }
 ],
 "metadata": {
  "kernelspec": {
   "display_name": "Python 3",
   "language": "python",
   "name": "python3"
  },
  "language_info": {
   "codemirror_mode": {
    "name": "ipython",
    "version": 3
   },
   "file_extension": ".py",
   "mimetype": "text/x-python",
   "name": "python",
   "nbconvert_exporter": "python",
   "pygments_lexer": "ipython3",
   "version": "3.7.5"
  }
 },
 "nbformat": 4,
 "nbformat_minor": 2
}
