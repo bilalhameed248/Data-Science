{
 "cells": [
  {
   "cell_type": "code",
   "execution_count": 1,
   "metadata": {},
   "outputs": [],
   "source": [
    "import numpy as np\n",
    "from sklearn.linear_model import LinearRegression\n",
    "import pandas as pd\n",
    "import matplotlib.pyplot as plt\n",
    "%matplotlib inline\n",
    "import seaborn as seabornInstance \n",
    "from sklearn.model_selection import train_test_split \n",
    "from sklearn import metrics\n",
    "import datetime as dt"
   ]
  },
  {
   "cell_type": "code",
   "execution_count": 74,
   "metadata": {},
   "outputs": [
    {
     "data": {
      "text/html": [
       "<div>\n",
       "<style scoped>\n",
       "    .dataframe tbody tr th:only-of-type {\n",
       "        vertical-align: middle;\n",
       "    }\n",
       "\n",
       "    .dataframe tbody tr th {\n",
       "        vertical-align: top;\n",
       "    }\n",
       "\n",
       "    .dataframe thead th {\n",
       "        text-align: right;\n",
       "    }\n",
       "</style>\n",
       "<table border=\"1\" class=\"dataframe\">\n",
       "  <thead>\n",
       "    <tr style=\"text-align: right;\">\n",
       "      <th></th>\n",
       "      <th>Date</th>\n",
       "      <th>GdpPakistan</th>\n",
       "      <th>Per Capita</th>\n",
       "      <th>Annual Per Change</th>\n",
       "    </tr>\n",
       "  </thead>\n",
       "  <tbody>\n",
       "    <tr>\n",
       "      <th>45</th>\n",
       "      <td>12/31/2005</td>\n",
       "      <td>120.055292</td>\n",
       "      <td>748.9226</td>\n",
       "      <td>6.5188</td>\n",
       "    </tr>\n",
       "    <tr>\n",
       "      <th>46</th>\n",
       "      <td>12/31/2006</td>\n",
       "      <td>137.264061</td>\n",
       "      <td>836.8605</td>\n",
       "      <td>5.8990</td>\n",
       "    </tr>\n",
       "    <tr>\n",
       "      <th>47</th>\n",
       "      <td>12/31/2007</td>\n",
       "      <td>152.385716</td>\n",
       "      <td>908.0951</td>\n",
       "      <td>4.8328</td>\n",
       "    </tr>\n",
       "    <tr>\n",
       "      <th>48</th>\n",
       "      <td>12/31/2008</td>\n",
       "      <td>170.077814</td>\n",
       "      <td>990.8466</td>\n",
       "      <td>1.7014</td>\n",
       "    </tr>\n",
       "    <tr>\n",
       "      <th>49</th>\n",
       "      <td>12/31/2009</td>\n",
       "      <td>168.152775</td>\n",
       "      <td>957.9957</td>\n",
       "      <td>2.8317</td>\n",
       "    </tr>\n",
       "    <tr>\n",
       "      <th>50</th>\n",
       "      <td>12/31/2010</td>\n",
       "      <td>177.165635</td>\n",
       "      <td>987.4097</td>\n",
       "      <td>1.6067</td>\n",
       "    </tr>\n",
       "    <tr>\n",
       "      <th>51</th>\n",
       "      <td>12/31/2011</td>\n",
       "      <td>213.587413</td>\n",
       "      <td>1164.9761</td>\n",
       "      <td>2.7484</td>\n",
       "    </tr>\n",
       "    <tr>\n",
       "      <th>52</th>\n",
       "      <td>12/31/2012</td>\n",
       "      <td>224.383621</td>\n",
       "      <td>1198.1090</td>\n",
       "      <td>3.5070</td>\n",
       "    </tr>\n",
       "    <tr>\n",
       "      <th>53</th>\n",
       "      <td>12/31/2013</td>\n",
       "      <td>231.218567</td>\n",
       "      <td>1208.9043</td>\n",
       "      <td>4.3965</td>\n",
       "    </tr>\n",
       "    <tr>\n",
       "      <th>54</th>\n",
       "      <td>12/31/2014</td>\n",
       "      <td>244.360889</td>\n",
       "      <td>1251.1641</td>\n",
       "      <td>4.6747</td>\n",
       "    </tr>\n",
       "    <tr>\n",
       "      <th>55</th>\n",
       "      <td>12/31/2015</td>\n",
       "      <td>270.556132</td>\n",
       "      <td>1356.6678</td>\n",
       "      <td>4.7311</td>\n",
       "    </tr>\n",
       "    <tr>\n",
       "      <th>56</th>\n",
       "      <td>12/31/2016</td>\n",
       "      <td>278.654638</td>\n",
       "      <td>1368.4543</td>\n",
       "      <td>5.5267</td>\n",
       "    </tr>\n",
       "    <tr>\n",
       "      <th>57</th>\n",
       "      <td>12/31/2017</td>\n",
       "      <td>304.567253</td>\n",
       "      <td>1464.9933</td>\n",
       "      <td>5.5543</td>\n",
       "    </tr>\n",
       "    <tr>\n",
       "      <th>58</th>\n",
       "      <td>12/31/2018</td>\n",
       "      <td>314.567542</td>\n",
       "      <td>1482.3057</td>\n",
       "      <td>5.8364</td>\n",
       "    </tr>\n",
       "    <tr>\n",
       "      <th>59</th>\n",
       "      <td>12/31/2019</td>\n",
       "      <td>278.221906</td>\n",
       "      <td>1284.7020</td>\n",
       "      <td>0.9888</td>\n",
       "    </tr>\n",
       "  </tbody>\n",
       "</table>\n",
       "</div>"
      ],
      "text/plain": [
       "          Date  GdpPakistan  Per Capita  Annual Per Change\n",
       "45  12/31/2005   120.055292    748.9226             6.5188\n",
       "46  12/31/2006   137.264061    836.8605             5.8990\n",
       "47  12/31/2007   152.385716    908.0951             4.8328\n",
       "48  12/31/2008   170.077814    990.8466             1.7014\n",
       "49  12/31/2009   168.152775    957.9957             2.8317\n",
       "50  12/31/2010   177.165635    987.4097             1.6067\n",
       "51  12/31/2011   213.587413   1164.9761             2.7484\n",
       "52  12/31/2012   224.383621   1198.1090             3.5070\n",
       "53  12/31/2013   231.218567   1208.9043             4.3965\n",
       "54  12/31/2014   244.360889   1251.1641             4.6747\n",
       "55  12/31/2015   270.556132   1356.6678             4.7311\n",
       "56  12/31/2016   278.654638   1368.4543             5.5267\n",
       "57  12/31/2017   304.567253   1464.9933             5.5543\n",
       "58  12/31/2018   314.567542   1482.3057             5.8364\n",
       "59  12/31/2019   278.221906   1284.7020             0.9888"
      ]
     },
     "execution_count": 74,
     "metadata": {},
     "output_type": "execute_result"
    }
   ],
   "source": [
    "data=pd.read_csv(\"gdp.csv\")\n",
    "data.tail(15)"
   ]
  },
  {
   "cell_type": "code",
   "execution_count": 75,
   "metadata": {},
   "outputs": [],
   "source": [
    "data['year'] = pd.DatetimeIndex(data['Date']).year"
   ]
  },
  {
   "cell_type": "code",
   "execution_count": 76,
   "metadata": {},
   "outputs": [],
   "source": [
    "x = np.array(data['year']).reshape((-1, 1))\n",
    "y = np.array(data['GdpPakistan'])"
   ]
  },
  {
   "cell_type": "code",
   "execution_count": null,
   "metadata": {},
   "outputs": [],
   "source": []
  },
  {
   "cell_type": "code",
   "execution_count": 77,
   "metadata": {},
   "outputs": [
    {
     "data": {
      "image/png": "[encoded data removed]",
      "text/plain": [
       "<Figure size 432x288 with 1 Axes>"
      ]
     },
     "metadata": {
      "needs_background": "light"
     },
     "output_type": "display_data"
    }
   ],
   "source": [
    "data.plot(x='year', y='GdpPakistan', style='o')  \n",
    "plt.title('Past GDP OF Pakistan')  \n",
    "plt.xlabel('Year')  \n",
    "plt.ylabel('GDP')  \n",
    "plt.show()"
   ]
  },
  {
   "cell_type": "code",
   "execution_count": 78,
   "metadata": {},
   "outputs": [],
   "source": [
    "X_train, X_test, y_train, y_test = train_test_split(x, y, test_size=0.2, random_state=0)"
   ]
  },
  {
   "cell_type": "code",
   "execution_count": 79,
   "metadata": {},
   "outputs": [
    {
     "data": {
      "text/plain": [
       "array([[1986],\n",
       "       [1995],\n",
       "       [2019],\n",
       "       [1988],\n",
       "       [1971],\n",
       "       [1962],\n",
       "       [1994],\n",
       "       [2018],\n",
       "       [2000],\n",
       "       [1982],\n",
       "       [1964],\n",
       "       [1970]], dtype=int64)"
      ]
     },
     "execution_count": 79,
     "metadata": {},
     "output_type": "execute_result"
    }
   ],
   "source": [
    "X_test"
   ]
  },
  {
   "cell_type": "code",
   "execution_count": 80,
   "metadata": {},
   "outputs": [
    {
     "name": "stdout",
     "output_type": "stream",
     "text": [
      "coefficient of determination: r_sq= 0.7814748610241411\n"
     ]
    }
   ],
   "source": [
    "model = LinearRegression().fit(X_train, y_train)\n",
    "r_sq = model.score(X_train, y_train)\n",
    "print('coefficient of determination: r_sq=', r_sq)"
   ]
  },
  {
   "cell_type": "code",
   "execution_count": 81,
   "metadata": {},
   "outputs": [
    {
     "name": "stdout",
     "output_type": "stream",
     "text": [
      "intercept: -8784.264731084662\n"
     ]
    }
   ],
   "source": [
    "print('intercept:', model.intercept_)"
   ]
  },
  {
   "cell_type": "code",
   "execution_count": 82,
   "metadata": {},
   "outputs": [
    {
     "name": "stdout",
     "output_type": "stream",
     "text": [
      "slope: [4.4545227]\n"
     ]
    }
   ],
   "source": [
    "print('slope:', model.coef_)"
   ]
  },
  {
   "cell_type": "code",
   "execution_count": 83,
   "metadata": {},
   "outputs": [
    {
     "name": "stdout",
     "output_type": "stream",
     "text": [
      "predicted response:\n",
      "[ 62.41735865 102.50806298 209.41660787  71.32640406  -4.40048191\n",
      " -44.49118624  98.05354028 204.96208517 124.7806765   44.59926783\n",
      " -35.58214083  -8.85500461]\n"
     ]
    }
   ],
   "source": [
    "y_pred = model.predict(X_test)\n",
    "print('predicted response:', y_pred, sep='\\n')"
   ]
  },
  {
   "cell_type": "code",
   "execution_count": 84,
   "metadata": {},
   "outputs": [
    {
     "data": {
      "text/html": [
       "<div>\n",
       "<style scoped>\n",
       "    .dataframe tbody tr th:only-of-type {\n",
       "        vertical-align: middle;\n",
       "    }\n",
       "\n",
       "    .dataframe tbody tr th {\n",
       "        vertical-align: top;\n",
       "    }\n",
       "\n",
       "    .dataframe thead th {\n",
       "        text-align: right;\n",
       "    }\n",
       "</style>\n",
       "<table border=\"1\" class=\"dataframe\">\n",
       "  <thead>\n",
       "    <tr style=\"text-align: right;\">\n",
       "      <th></th>\n",
       "      <th>Year</th>\n",
       "      <th>Actual</th>\n",
       "      <th>Predicted</th>\n",
       "    </tr>\n",
       "  </thead>\n",
       "  <tbody>\n",
       "    <tr>\n",
       "      <th>0</th>\n",
       "      <td>1986</td>\n",
       "      <td>31.899070</td>\n",
       "      <td>62.417359</td>\n",
       "    </tr>\n",
       "    <tr>\n",
       "      <th>1</th>\n",
       "      <td>1995</td>\n",
       "      <td>60.636022</td>\n",
       "      <td>102.508063</td>\n",
       "    </tr>\n",
       "    <tr>\n",
       "      <th>2</th>\n",
       "      <td>2019</td>\n",
       "      <td>278.221906</td>\n",
       "      <td>209.416608</td>\n",
       "    </tr>\n",
       "    <tr>\n",
       "      <th>3</th>\n",
       "      <td>1988</td>\n",
       "      <td>38.472743</td>\n",
       "      <td>71.326404</td>\n",
       "    </tr>\n",
       "    <tr>\n",
       "      <th>4</th>\n",
       "      <td>1971</td>\n",
       "      <td>10.665897</td>\n",
       "      <td>-4.400482</td>\n",
       "    </tr>\n",
       "    <tr>\n",
       "      <th>5</th>\n",
       "      <td>1962</td>\n",
       "      <td>4.310164</td>\n",
       "      <td>-44.491186</td>\n",
       "    </tr>\n",
       "    <tr>\n",
       "      <th>6</th>\n",
       "      <td>1994</td>\n",
       "      <td>52.293457</td>\n",
       "      <td>98.053540</td>\n",
       "    </tr>\n",
       "    <tr>\n",
       "      <th>7</th>\n",
       "      <td>2018</td>\n",
       "      <td>314.567542</td>\n",
       "      <td>204.962085</td>\n",
       "    </tr>\n",
       "    <tr>\n",
       "      <th>8</th>\n",
       "      <td>2000</td>\n",
       "      <td>82.017743</td>\n",
       "      <td>124.780677</td>\n",
       "    </tr>\n",
       "    <tr>\n",
       "      <th>9</th>\n",
       "      <td>1982</td>\n",
       "      <td>30.725972</td>\n",
       "      <td>44.599268</td>\n",
       "    </tr>\n",
       "    <tr>\n",
       "      <th>10</th>\n",
       "      <td>1964</td>\n",
       "      <td>5.204956</td>\n",
       "      <td>-35.582141</td>\n",
       "    </tr>\n",
       "    <tr>\n",
       "      <th>11</th>\n",
       "      <td>1970</td>\n",
       "      <td>10.027509</td>\n",
       "      <td>-8.855005</td>\n",
       "    </tr>\n",
       "  </tbody>\n",
       "</table>\n",
       "</div>"
      ],
      "text/plain": [
       "    Year      Actual   Predicted\n",
       "0   1986   31.899070   62.417359\n",
       "1   1995   60.636022  102.508063\n",
       "2   2019  278.221906  209.416608\n",
       "3   1988   38.472743   71.326404\n",
       "4   1971   10.665897   -4.400482\n",
       "5   1962    4.310164  -44.491186\n",
       "6   1994   52.293457   98.053540\n",
       "7   2018  314.567542  204.962085\n",
       "8   2000   82.017743  124.780677\n",
       "9   1982   30.725972   44.599268\n",
       "10  1964    5.204956  -35.582141\n",
       "11  1970   10.027509   -8.855005"
      ]
     },
     "execution_count": 84,
     "metadata": {},
     "output_type": "execute_result"
    }
   ],
   "source": [
    "df = pd.DataFrame({'Year': X_test.flatten() ,'Actual': y_test.flatten(), 'Predicted': y_pred.flatten()})\n",
    "df"
   ]
  },
  {
   "cell_type": "code",
   "execution_count": 85,
   "metadata": {},
   "outputs": [
    {
     "data": {
      "image/png": "[encoded data removed]",
      "text/plain": [
       "<Figure size 576x288 with 1 Axes>"
      ]
     },
     "metadata": {
      "needs_background": "light"
     },
     "output_type": "display_data"
    }
   ],
   "source": [
    "df.plot(kind='bar',figsize=(8,4))\n",
    "plt.grid(which='major', linestyle='-', linewidth='0.5', color='green')\n",
    "plt.grid(which='minor', linestyle=':', linewidth='0.5', color='black')\n",
    "plt.show()"
   ]
  },
  {
   "cell_type": "code",
   "execution_count": 86,
   "metadata": {},
   "outputs": [
    {
     "data": {
      "image/png": "[encoded data removed]",
      "text/plain": [
       "<Figure size 432x288 with 1 Axes>"
      ]
     },
     "metadata": {
      "needs_background": "light"
     },
     "output_type": "display_data"
    }
   ],
   "source": [
    "plt.scatter(X_test, y_test,  color='gray')\n",
    "plt.plot(X_test, y_pred, color='red', linewidth=2)\n",
    "plt.show()"
   ]
  },
  {
   "cell_type": "code",
   "execution_count": 87,
   "metadata": {},
   "outputs": [
    {
     "name": "stdout",
     "output_type": "stream",
     "text": [
      "Mean Absolute Error: 42.46569975862683\n",
      "Mean Squared Error: 2437.9456715058527\n",
      "Root Mean Squared Error: 49.37555742982405\n"
     ]
    }
   ],
   "source": [
    "print('Mean Absolute Error:', metrics.mean_absolute_error(y_test, y_pred))  \n",
    "print('Mean Squared Error:', metrics.mean_squared_error(y_test, y_pred))  \n",
    "print('Root Mean Squared Error:', np.sqrt(metrics.mean_squared_error(y_test, y_pred)))"
   ]
  },
  {
   "cell_type": "code",
   "execution_count": 88,
   "metadata": {},
   "outputs": [
    {
     "name": "stdout",
     "output_type": "stream",
     "text": [
      "[[2020]\n",
      " [2021]\n",
      " [2022]\n",
      " [2023]\n",
      " [2024]\n",
      " [2025]]\n"
     ]
    }
   ],
   "source": [
    "x_new=np.array([2020, 2021, 2022, 2023, 2024, 2025]).reshape((-1, 1))\n",
    "print(x_new)"
   ]
  },
  {
   "cell_type": "code",
   "execution_count": 89,
   "metadata": {},
   "outputs": [
    {
     "name": "stdout",
     "output_type": "stream",
     "text": [
      "[213.87113058 218.32565328 222.78017599 227.23469869 231.68922139\n",
      " 236.1437441 ]\n"
     ]
    }
   ],
   "source": [
    "y_new = model.predict(x_new)\n",
    "print(y_new)"
   ]
  },
  {
   "cell_type": "code",
   "execution_count": 90,
   "metadata": {},
   "outputs": [],
   "source": [
    "#so i conclude that data is not so good to pridict well so "
   ]
  },
  {
   "cell_type": "markdown",
   "metadata": {},
   "source": [
    "## i use here polynomilal regression"
   ]
  },
  {
   "cell_type": "code",
   "execution_count": 91,
   "metadata": {},
   "outputs": [],
   "source": [
    "from sklearn.preprocessing import PolynomialFeatures"
   ]
  },
  {
   "cell_type": "code",
   "execution_count": 92,
   "metadata": {},
   "outputs": [],
   "source": [
    "poly_reg=PolynomialFeatures(degree=3)"
   ]
  },
  {
   "cell_type": "code",
   "execution_count": 93,
   "metadata": {},
   "outputs": [],
   "source": [
    "x_poly=poly_reg.fit_transform(X_train)"
   ]
  },
  {
   "cell_type": "code",
   "execution_count": 94,
   "metadata": {},
   "outputs": [
    {
     "data": {
      "text/plain": [
       "array([[1.00000000e+00, 1.99000000e+03, 3.96010000e+06, 7.88059900e+09],\n",
       "       [1.00000000e+00, 2.00100000e+03, 4.00400100e+06, 8.01200600e+09],\n",
       "       [1.00000000e+00, 1.99300000e+03, 3.97204900e+06, 7.91629366e+09],\n",
       "       [1.00000000e+00, 2.00300000e+03, 4.01200900e+06, 8.03605403e+09],\n",
       "       [1.00000000e+00, 2.00900000e+03, 4.03608100e+06, 8.10848673e+09],\n",
       "       [1.00000000e+00, 1.96700000e+03, 3.86908900e+06, 7.61049806e+09],\n",
       "       [1.00000000e+00, 1.97400000e+03, 3.89667600e+06, 7.69203842e+09],\n",
       "       [1.00000000e+00, 1.99200000e+03, 3.96806400e+06, 7.90438349e+09],\n",
       "       [1.00000000e+00, 2.01000000e+03, 4.04010000e+06, 8.12060100e+09],\n",
       "       [1.00000000e+00, 1.98900000e+03, 3.95612100e+06, 7.86872467e+09],\n",
       "       [1.00000000e+00, 2.00200000e+03, 4.00800400e+06, 8.02402401e+09],\n",
       "       [1.00000000e+00, 2.01400000e+03, 4.05619600e+06, 8.16917874e+09],\n",
       "       [1.00000000e+00, 1.97800000e+03, 3.91248400e+06, 7.73889335e+09],\n",
       "       [1.00000000e+00, 2.01600000e+03, 4.06425600e+06, 8.19354010e+09],\n",
       "       [1.00000000e+00, 1.98700000e+03, 3.94816900e+06, 7.84501180e+09],\n",
       "       [1.00000000e+00, 1.97500000e+03, 3.90062500e+06, 7.70373438e+09],\n",
       "       [1.00000000e+00, 1.96500000e+03, 3.86122500e+06, 7.58730712e+09],\n",
       "       [1.00000000e+00, 1.99100000e+03, 3.96408100e+06, 7.89248527e+09],\n",
       "       [1.00000000e+00, 1.97600000e+03, 3.90457600e+06, 7.71544218e+09],\n",
       "       [1.00000000e+00, 2.01100000e+03, 4.04412100e+06, 8.13272733e+09],\n",
       "       [1.00000000e+00, 1.98000000e+03, 3.92040000e+06, 7.76239200e+09],\n",
       "       [1.00000000e+00, 2.01200000e+03, 4.04814400e+06, 8.14486573e+09],\n",
       "       [1.00000000e+00, 1.96800000e+03, 3.87302400e+06, 7.62211123e+09],\n",
       "       [1.00000000e+00, 1.97300000e+03, 3.89272900e+06, 7.68035432e+09],\n",
       "       [1.00000000e+00, 1.98500000e+03, 3.94022500e+06, 7.82134662e+09],\n",
       "       [1.00000000e+00, 1.99700000e+03, 3.98800900e+06, 7.96405397e+09],\n",
       "       [1.00000000e+00, 1.97700000e+03, 3.90852900e+06, 7.72716183e+09],\n",
       "       [1.00000000e+00, 2.00500000e+03, 4.02002500e+06, 8.06015012e+09],\n",
       "       [1.00000000e+00, 2.00800000e+03, 4.03206400e+06, 8.09638451e+09],\n",
       "       [1.00000000e+00, 2.01700000e+03, 4.06828900e+06, 8.20573891e+09],\n",
       "       [1.00000000e+00, 1.99800000e+03, 3.99200400e+06, 7.97602399e+09],\n",
       "       [1.00000000e+00, 1.96100000e+03, 3.84552100e+06, 7.54106668e+09],\n",
       "       [1.00000000e+00, 1.97200000e+03, 3.88878400e+06, 7.66868205e+09],\n",
       "       [1.00000000e+00, 2.00600000e+03, 4.02403600e+06, 8.07221622e+09],\n",
       "       [1.00000000e+00, 1.98400000e+03, 3.93625600e+06, 7.80953190e+09],\n",
       "       [1.00000000e+00, 1.96600000e+03, 3.86515600e+06, 7.59889670e+09],\n",
       "       [1.00000000e+00, 1.98300000e+03, 3.93228900e+06, 7.79772909e+09],\n",
       "       [1.00000000e+00, 1.99600000e+03, 3.98401600e+06, 7.95209594e+09],\n",
       "       [1.00000000e+00, 1.98100000e+03, 3.92436100e+06, 7.77415914e+09],\n",
       "       [1.00000000e+00, 1.97900000e+03, 3.91644100e+06, 7.75063674e+09],\n",
       "       [1.00000000e+00, 1.96900000e+03, 3.87696100e+06, 7.63373621e+09],\n",
       "       [1.00000000e+00, 1.99900000e+03, 3.99600100e+06, 7.98800600e+09],\n",
       "       [1.00000000e+00, 2.01500000e+03, 4.06022500e+06, 8.18135338e+09],\n",
       "       [1.00000000e+00, 1.96300000e+03, 3.85336900e+06, 7.56416335e+09],\n",
       "       [1.00000000e+00, 1.96000000e+03, 3.84160000e+06, 7.52953600e+09],\n",
       "       [1.00000000e+00, 2.01300000e+03, 4.05216900e+06, 8.15701620e+09],\n",
       "       [1.00000000e+00, 2.00700000e+03, 4.02804900e+06, 8.08429434e+09],\n",
       "       [1.00000000e+00, 2.00400000e+03, 4.01601600e+06, 8.04809606e+09]])"
      ]
     },
     "execution_count": 94,
     "metadata": {},
     "output_type": "execute_result"
    }
   ],
   "source": [
    "x_poly"
   ]
  },
  {
   "cell_type": "code",
   "execution_count": 95,
   "metadata": {},
   "outputs": [],
   "source": [
    "lin_reg2=LinearRegression().fit(x_poly, y_train)"
   ]
  },
  {
   "cell_type": "code",
   "execution_count": 96,
   "metadata": {},
   "outputs": [
    {
     "name": "stdout",
     "output_type": "stream",
     "text": [
      "coefficient of determination: r_sq= 0.9929499456519343\n"
     ]
    }
   ],
   "source": [
    "r_sq = lin_reg2.score(x_poly, y_train)\n",
    "print('coefficient of determination: r_sq=', r_sq)"
   ]
  },
  {
   "cell_type": "code",
   "execution_count": null,
   "metadata": {},
   "outputs": [],
   "source": [
    "y_pred = lin_reg2.predict(poly_reg.fit_transform(X_test))\n",
    "print('predicted response:', y_pred, sep='\\n')"
   ]
  },
  {
   "cell_type": "code",
   "execution_count": 99,
   "metadata": {},
   "outputs": [
    {
     "data": {
      "image/png": "[encoded data removed]",
      "text/plain": [
       "<Figure size 432x288 with 1 Axes>"
      ]
     },
     "metadata": {
      "needs_background": "light"
     },
     "output_type": "display_data"
    }
   ],
   "source": [
    "plt.scatter(X_test, y_test, color='red')\n",
    "plt.plot(X_test, lin_reg2.predict(poly_reg.fit_transform(X_test)), color='blue')\n",
    "plt.title(\"Pakistan Past GDP\")\n",
    "plt.xlabel('Year')\n",
    "plt.ylabel('GDP')\n",
    "plt.show()"
   ]
  },
  {
   "cell_type": "code",
   "execution_count": 100,
   "metadata": {},
   "outputs": [
    {
     "name": "stdout",
     "output_type": "stream",
     "text": [
      "[[2018]\n",
      " [2019]\n",
      " [2020]\n",
      " [2021]\n",
      " [2022]\n",
      " [2023]\n",
      " [2024]\n",
      " [2025]]\n"
     ]
    }
   ],
   "source": [
    "x_new=np.array([2018, 2019, 2020, 2021, 2022, 2023, 2024, 2025]).reshape((-1, 1))\n",
    "print(x_new)"
   ]
  },
  {
   "cell_type": "code",
   "execution_count": 101,
   "metadata": {},
   "outputs": [
    {
     "name": "stdout",
     "output_type": "stream",
     "text": [
      "[323.75210554 345.21672593 367.68226393 391.17200562 415.70923713\n",
      " 441.31724464 468.01931423 495.83873207]\n"
     ]
    }
   ],
   "source": [
    "y_new=lin_reg2.predict(poly_reg.fit_transform(x_new))\n",
    "print(y_new)"
   ]
  },
  {
   "cell_type": "code",
   "execution_count": 103,
   "metadata": {},
   "outputs": [
    {
     "data": {
      "text/html": [
       "<div>\n",
       "<style scoped>\n",
       "    .dataframe tbody tr th:only-of-type {\n",
       "        vertical-align: middle;\n",
       "    }\n",
       "\n",
       "    .dataframe tbody tr th {\n",
       "        vertical-align: top;\n",
       "    }\n",
       "\n",
       "    .dataframe thead th {\n",
       "        text-align: right;\n",
       "    }\n",
       "</style>\n",
       "<table border=\"1\" class=\"dataframe\">\n",
       "  <thead>\n",
       "    <tr style=\"text-align: right;\">\n",
       "      <th></th>\n",
       "      <th>Year</th>\n",
       "      <th>Actual</th>\n",
       "      <th>Predicted</th>\n",
       "    </tr>\n",
       "  </thead>\n",
       "  <tbody>\n",
       "    <tr>\n",
       "      <th>0</th>\n",
       "      <td>1986</td>\n",
       "      <td>31.899070</td>\n",
       "      <td>26.024522</td>\n",
       "    </tr>\n",
       "    <tr>\n",
       "      <th>1</th>\n",
       "      <td>1995</td>\n",
       "      <td>60.636022</td>\n",
       "      <td>52.760985</td>\n",
       "    </tr>\n",
       "    <tr>\n",
       "      <th>2</th>\n",
       "      <td>2019</td>\n",
       "      <td>278.221906</td>\n",
       "      <td>345.216726</td>\n",
       "    </tr>\n",
       "    <tr>\n",
       "      <th>3</th>\n",
       "      <td>1988</td>\n",
       "      <td>38.472743</td>\n",
       "      <td>29.740954</td>\n",
       "    </tr>\n",
       "    <tr>\n",
       "      <th>4</th>\n",
       "      <td>1971</td>\n",
       "      <td>10.665897</td>\n",
       "      <td>14.926286</td>\n",
       "    </tr>\n",
       "    <tr>\n",
       "      <th>5</th>\n",
       "      <td>1962</td>\n",
       "      <td>4.310164</td>\n",
       "      <td>0.680942</td>\n",
       "    </tr>\n",
       "    <tr>\n",
       "      <th>6</th>\n",
       "      <td>1994</td>\n",
       "      <td>52.293457</td>\n",
       "      <td>48.332547</td>\n",
       "    </tr>\n",
       "    <tr>\n",
       "      <th>7</th>\n",
       "      <td>2018</td>\n",
       "      <td>314.567542</td>\n",
       "      <td>323.752106</td>\n",
       "    </tr>\n",
       "    <tr>\n",
       "      <th>8</th>\n",
       "      <td>2000</td>\n",
       "      <td>82.017743</td>\n",
       "      <td>81.999654</td>\n",
       "    </tr>\n",
       "    <tr>\n",
       "      <th>9</th>\n",
       "      <td>1982</td>\n",
       "      <td>30.725972</td>\n",
       "      <td>21.195071</td>\n",
       "    </tr>\n",
       "    <tr>\n",
       "      <th>10</th>\n",
       "      <td>1964</td>\n",
       "      <td>5.204956</td>\n",
       "      <td>5.533640</td>\n",
       "    </tr>\n",
       "    <tr>\n",
       "      <th>11</th>\n",
       "      <td>1970</td>\n",
       "      <td>10.027509</td>\n",
       "      <td>14.121219</td>\n",
       "    </tr>\n",
       "  </tbody>\n",
       "</table>\n",
       "</div>"
      ],
      "text/plain": [
       "    Year      Actual   Predicted\n",
       "0   1986   31.899070   26.024522\n",
       "1   1995   60.636022   52.760985\n",
       "2   2019  278.221906  345.216726\n",
       "3   1988   38.472743   29.740954\n",
       "4   1971   10.665897   14.926286\n",
       "5   1962    4.310164    0.680942\n",
       "6   1994   52.293457   48.332547\n",
       "7   2018  314.567542  323.752106\n",
       "8   2000   82.017743   81.999654\n",
       "9   1982   30.725972   21.195071\n",
       "10  1964    5.204956    5.533640\n",
       "11  1970   10.027509   14.121219"
      ]
     },
     "execution_count": 103,
     "metadata": {},
     "output_type": "execute_result"
    }
   ],
   "source": [
    "df = pd.DataFrame({'Year': X_test.flatten() ,'Actual': y_test.flatten(), 'Predicted': y_pred.flatten()})\n",
    "df"
   ]
  },
  {
   "cell_type": "code",
   "execution_count": null,
   "metadata": {},
   "outputs": [],
   "source": []
  },
  {
   "cell_type": "code",
   "execution_count": null,
   "metadata": {},
   "outputs": [],
   "source": []
  },
  {
   "cell_type": "code",
   "execution_count": null,
   "metadata": {},
   "outputs": [],
   "source": []
  },
  {
   "cell_type": "code",
   "execution_count": null,
   "metadata": {},
   "outputs": [],
   "source": []
  },
  {
   "cell_type": "code",
   "execution_count": null,
   "metadata": {},
   "outputs": [],
   "source": []
  },
  {
   "cell_type": "code",
   "execution_count": null,
   "metadata": {},
   "outputs": [],
   "source": []
  },
  {
   "cell_type": "code",
   "execution_count": null,
   "metadata": {},
   "outputs": [],
   "source": []
  },
  {
   "cell_type": "code",
   "execution_count": null,
   "metadata": {},
   "outputs": [],
   "source": []
  },
  {
   "cell_type": "code",
   "execution_count": null,
   "metadata": {},
   "outputs": [],
   "source": []
  },
  {
   "cell_type": "code",
   "execution_count": null,
   "metadata": {},
   "outputs": [],
   "source": []
  },
  {
   "cell_type": "code",
   "execution_count": null,
   "metadata": {},
   "outputs": [],
   "source": []
  }
 ],
 "metadata": {
  "kernelspec": {
   "display_name": "Python 3",
   "language": "python",
   "name": "python3"
  },
  "language_info": {
   "codemirror_mode": {
    "name": "ipython",
    "version": 3
   },
   "file_extension": ".py",
   "mimetype": "text/x-python",
   "name": "python",
   "nbconvert_exporter": "python",
   "pygments_lexer": "ipython3",
   "version": "3.7.5"
  }
 },
 "nbformat": 4,
 "nbformat_minor": 4
}
