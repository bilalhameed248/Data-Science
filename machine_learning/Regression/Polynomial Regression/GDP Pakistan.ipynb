{
 "cells": [
  {
   "cell_type": "code",
   "execution_count": 37,
   "metadata": {},
   "outputs": [],
   "source": [
    "import numpy as np\n",
    "from sklearn.linear_model import LinearRegression\n",
    "import pandas as pd\n",
    "import matplotlib.pyplot as plt\n",
    "%matplotlib inline\n",
    "import seaborn as seabornInstance \n",
    "from sklearn.model_selection import train_test_split \n",
    "from sklearn import metrics\n",
    "import datetime as dt\n",
    "from sklearn.linear_model import LinearRegression"
   ]
  },
  {
   "cell_type": "code",
   "execution_count": 93,
   "metadata": {},
   "outputs": [
    {
     "data": {
      "text/html": [
       "<div>\n",
       "<style scoped>\n",
       "    .dataframe tbody tr th:only-of-type {\n",
       "        vertical-align: middle;\n",
       "    }\n",
       "\n",
       "    .dataframe tbody tr th {\n",
       "        vertical-align: top;\n",
       "    }\n",
       "\n",
       "    .dataframe thead th {\n",
       "        text-align: right;\n",
       "    }\n",
       "</style>\n",
       "<table border=\"1\" class=\"dataframe\">\n",
       "  <thead>\n",
       "    <tr style=\"text-align: right;\">\n",
       "      <th></th>\n",
       "      <th>Date</th>\n",
       "      <th>GdpPakistan</th>\n",
       "      <th>Per Capita</th>\n",
       "      <th>Annual Per Change</th>\n",
       "    </tr>\n",
       "  </thead>\n",
       "  <tbody>\n",
       "    <tr>\n",
       "      <th>0</th>\n",
       "      <td>12/31/1960</td>\n",
       "      <td>3.749265</td>\n",
       "      <td>83.3379</td>\n",
       "      <td>0.0000</td>\n",
       "    </tr>\n",
       "    <tr>\n",
       "      <th>1</th>\n",
       "      <td>12/31/1961</td>\n",
       "      <td>4.118648</td>\n",
       "      <td>89.4090</td>\n",
       "      <td>5.9873</td>\n",
       "    </tr>\n",
       "    <tr>\n",
       "      <th>2</th>\n",
       "      <td>12/31/1962</td>\n",
       "      <td>4.310164</td>\n",
       "      <td>91.3192</td>\n",
       "      <td>4.4829</td>\n",
       "    </tr>\n",
       "    <tr>\n",
       "      <th>3</th>\n",
       "      <td>12/31/1963</td>\n",
       "      <td>4.630827</td>\n",
       "      <td>95.7034</td>\n",
       "      <td>8.6888</td>\n",
       "    </tr>\n",
       "    <tr>\n",
       "      <th>4</th>\n",
       "      <td>12/31/1964</td>\n",
       "      <td>5.204956</td>\n",
       "      <td>104.8802</td>\n",
       "      <td>7.5698</td>\n",
       "    </tr>\n",
       "    <tr>\n",
       "      <th>5</th>\n",
       "      <td>12/31/1965</td>\n",
       "      <td>5.929231</td>\n",
       "      <td>116.4467</td>\n",
       "      <td>10.4194</td>\n",
       "    </tr>\n",
       "    <tr>\n",
       "      <th>6</th>\n",
       "      <td>12/31/1966</td>\n",
       "      <td>6.561109</td>\n",
       "      <td>125.5470</td>\n",
       "      <td>5.7900</td>\n",
       "    </tr>\n",
       "    <tr>\n",
       "      <th>7</th>\n",
       "      <td>12/31/1967</td>\n",
       "      <td>7.464511</td>\n",
       "      <td>139.1185</td>\n",
       "      <td>5.4006</td>\n",
       "    </tr>\n",
       "    <tr>\n",
       "      <th>8</th>\n",
       "      <td>12/31/1968</td>\n",
       "      <td>8.041999</td>\n",
       "      <td>145.9457</td>\n",
       "      <td>7.2332</td>\n",
       "    </tr>\n",
       "    <tr>\n",
       "      <th>9</th>\n",
       "      <td>12/31/1969</td>\n",
       "      <td>8.683116</td>\n",
       "      <td>153.4170</td>\n",
       "      <td>5.5079</td>\n",
       "    </tr>\n",
       "    <tr>\n",
       "      <th>10</th>\n",
       "      <td>12/31/1970</td>\n",
       "      <td>10.027509</td>\n",
       "      <td>172.4657</td>\n",
       "      <td>11.3535</td>\n",
       "    </tr>\n",
       "    <tr>\n",
       "      <th>11</th>\n",
       "      <td>12/31/1971</td>\n",
       "      <td>10.665897</td>\n",
       "      <td>178.5551</td>\n",
       "      <td>0.4684</td>\n",
       "    </tr>\n",
       "    <tr>\n",
       "      <th>12</th>\n",
       "      <td>12/31/1972</td>\n",
       "      <td>9.415016</td>\n",
       "      <td>153.3840</td>\n",
       "      <td>0.8134</td>\n",
       "    </tr>\n",
       "    <tr>\n",
       "      <th>13</th>\n",
       "      <td>12/31/1973</td>\n",
       "      <td>6.383429</td>\n",
       "      <td>101.1647</td>\n",
       "      <td>7.0643</td>\n",
       "    </tr>\n",
       "    <tr>\n",
       "      <th>14</th>\n",
       "      <td>12/31/1974</td>\n",
       "      <td>8.899192</td>\n",
       "      <td>137.1089</td>\n",
       "      <td>3.5402</td>\n",
       "    </tr>\n",
       "  </tbody>\n",
       "</table>\n",
       "</div>"
      ],
      "text/plain": [
       "          Date  GdpPakistan  Per Capita  Annual Per Change\n",
       "0   12/31/1960     3.749265     83.3379             0.0000\n",
       "1   12/31/1961     4.118648     89.4090             5.9873\n",
       "2   12/31/1962     4.310164     91.3192             4.4829\n",
       "3   12/31/1963     4.630827     95.7034             8.6888\n",
       "4   12/31/1964     5.204956    104.8802             7.5698\n",
       "5   12/31/1965     5.929231    116.4467            10.4194\n",
       "6   12/31/1966     6.561109    125.5470             5.7900\n",
       "7   12/31/1967     7.464511    139.1185             5.4006\n",
       "8   12/31/1968     8.041999    145.9457             7.2332\n",
       "9   12/31/1969     8.683116    153.4170             5.5079\n",
       "10  12/31/1970    10.027509    172.4657            11.3535\n",
       "11  12/31/1971    10.665897    178.5551             0.4684\n",
       "12  12/31/1972     9.415016    153.3840             0.8134\n",
       "13  12/31/1973     6.383429    101.1647             7.0643\n",
       "14  12/31/1974     8.899192    137.1089             3.5402"
      ]
     },
     "execution_count": 93,
     "metadata": {},
     "output_type": "execute_result"
    }
   ],
   "source": [
    "data=pd.read_csv(\"gdp.csv\")\n",
    "data.head(15) "
   ]
  },
  {
   "cell_type": "code",
   "execution_count": 26,
   "metadata": {},
   "outputs": [],
   "source": [
    "data['year'] = pd.DatetimeIndex(data['Date']).year"
   ]
  },
  {
   "cell_type": "code",
   "execution_count": 30,
   "metadata": {},
   "outputs": [],
   "source": [
    "x = np.array(data['year']).reshape((-1, 1))       #To check array dimension x.ndim\n",
    "y = np.array(data['GdpPakistan'])"
   ]
  },
  {
   "cell_type": "code",
   "execution_count": 31,
   "metadata": {},
   "outputs": [
    {
     "data": {
      "image/png": "[encoded data removed]",
      "text/plain": [
       "<Figure size 432x288 with 1 Axes>"
      ]
     },
     "metadata": {
      "needs_background": "light"
     },
     "output_type": "display_data"
    }
   ],
   "source": [
    "data.plot(x='year', y='GdpPakistan', style='o')  \n",
    "plt.title('Past GDP OF Pakistan')  \n",
    "plt.xlabel('Year')  \n",
    "plt.ylabel('GDP')  \n",
    "plt.show()"
   ]
  },
  {
   "cell_type": "markdown",
   "metadata": {},
   "source": [
    "## ## Fitting Polynomial Regression to Data Set"
   ]
  },
  {
   "cell_type": "code",
   "execution_count": 71,
   "metadata": {},
   "outputs": [],
   "source": [
    "from sklearn.preprocessing import PolynomialFeatures"
   ]
  },
  {
   "cell_type": "code",
   "execution_count": 82,
   "metadata": {},
   "outputs": [],
   "source": [
    "poly_reg=PolynomialFeatures(degree=3)"
   ]
  },
  {
   "cell_type": "code",
   "execution_count": 83,
   "metadata": {},
   "outputs": [],
   "source": [
    "x_poly=poly_reg.fit_transform(x)"
   ]
  },
  {
   "cell_type": "code",
   "execution_count": 84,
   "metadata": {},
   "outputs": [
    {
     "data": {
      "text/plain": [
       "array([[1.00000000e+00, 1.96000000e+03, 3.84160000e+06, 7.52953600e+09],\n",
       "       [1.00000000e+00, 1.96100000e+03, 3.84552100e+06, 7.54106668e+09],\n",
       "       [1.00000000e+00, 1.96200000e+03, 3.84944400e+06, 7.55260913e+09],\n",
       "       [1.00000000e+00, 1.96300000e+03, 3.85336900e+06, 7.56416335e+09],\n",
       "       [1.00000000e+00, 1.96400000e+03, 3.85729600e+06, 7.57572934e+09],\n",
       "       [1.00000000e+00, 1.96500000e+03, 3.86122500e+06, 7.58730712e+09],\n",
       "       [1.00000000e+00, 1.96600000e+03, 3.86515600e+06, 7.59889670e+09],\n",
       "       [1.00000000e+00, 1.96700000e+03, 3.86908900e+06, 7.61049806e+09],\n",
       "       [1.00000000e+00, 1.96800000e+03, 3.87302400e+06, 7.62211123e+09],\n",
       "       [1.00000000e+00, 1.96900000e+03, 3.87696100e+06, 7.63373621e+09],\n",
       "       [1.00000000e+00, 1.97000000e+03, 3.88090000e+06, 7.64537300e+09],\n",
       "       [1.00000000e+00, 1.97100000e+03, 3.88484100e+06, 7.65702161e+09],\n",
       "       [1.00000000e+00, 1.97200000e+03, 3.88878400e+06, 7.66868205e+09],\n",
       "       [1.00000000e+00, 1.97300000e+03, 3.89272900e+06, 7.68035432e+09],\n",
       "       [1.00000000e+00, 1.97400000e+03, 3.89667600e+06, 7.69203842e+09],\n",
       "       [1.00000000e+00, 1.97500000e+03, 3.90062500e+06, 7.70373438e+09],\n",
       "       [1.00000000e+00, 1.97600000e+03, 3.90457600e+06, 7.71544218e+09],\n",
       "       [1.00000000e+00, 1.97700000e+03, 3.90852900e+06, 7.72716183e+09],\n",
       "       [1.00000000e+00, 1.97800000e+03, 3.91248400e+06, 7.73889335e+09],\n",
       "       [1.00000000e+00, 1.97900000e+03, 3.91644100e+06, 7.75063674e+09],\n",
       "       [1.00000000e+00, 1.98000000e+03, 3.92040000e+06, 7.76239200e+09],\n",
       "       [1.00000000e+00, 1.98100000e+03, 3.92436100e+06, 7.77415914e+09],\n",
       "       [1.00000000e+00, 1.98200000e+03, 3.92832400e+06, 7.78593817e+09],\n",
       "       [1.00000000e+00, 1.98300000e+03, 3.93228900e+06, 7.79772909e+09],\n",
       "       [1.00000000e+00, 1.98400000e+03, 3.93625600e+06, 7.80953190e+09],\n",
       "       [1.00000000e+00, 1.98500000e+03, 3.94022500e+06, 7.82134662e+09],\n",
       "       [1.00000000e+00, 1.98600000e+03, 3.94419600e+06, 7.83317326e+09],\n",
       "       [1.00000000e+00, 1.98700000e+03, 3.94816900e+06, 7.84501180e+09],\n",
       "       [1.00000000e+00, 1.98800000e+03, 3.95214400e+06, 7.85686227e+09],\n",
       "       [1.00000000e+00, 1.98900000e+03, 3.95612100e+06, 7.86872467e+09],\n",
       "       [1.00000000e+00, 1.99000000e+03, 3.96010000e+06, 7.88059900e+09],\n",
       "       [1.00000000e+00, 1.99100000e+03, 3.96408100e+06, 7.89248527e+09],\n",
       "       [1.00000000e+00, 1.99200000e+03, 3.96806400e+06, 7.90438349e+09],\n",
       "       [1.00000000e+00, 1.99300000e+03, 3.97204900e+06, 7.91629366e+09],\n",
       "       [1.00000000e+00, 1.99400000e+03, 3.97603600e+06, 7.92821578e+09],\n",
       "       [1.00000000e+00, 1.99500000e+03, 3.98002500e+06, 7.94014988e+09],\n",
       "       [1.00000000e+00, 1.99600000e+03, 3.98401600e+06, 7.95209594e+09],\n",
       "       [1.00000000e+00, 1.99700000e+03, 3.98800900e+06, 7.96405397e+09],\n",
       "       [1.00000000e+00, 1.99800000e+03, 3.99200400e+06, 7.97602399e+09],\n",
       "       [1.00000000e+00, 1.99900000e+03, 3.99600100e+06, 7.98800600e+09],\n",
       "       [1.00000000e+00, 2.00000000e+03, 4.00000000e+06, 8.00000000e+09],\n",
       "       [1.00000000e+00, 2.00100000e+03, 4.00400100e+06, 8.01200600e+09],\n",
       "       [1.00000000e+00, 2.00200000e+03, 4.00800400e+06, 8.02402401e+09],\n",
       "       [1.00000000e+00, 2.00300000e+03, 4.01200900e+06, 8.03605403e+09],\n",
       "       [1.00000000e+00, 2.00400000e+03, 4.01601600e+06, 8.04809606e+09],\n",
       "       [1.00000000e+00, 2.00500000e+03, 4.02002500e+06, 8.06015012e+09],\n",
       "       [1.00000000e+00, 2.00600000e+03, 4.02403600e+06, 8.07221622e+09],\n",
       "       [1.00000000e+00, 2.00700000e+03, 4.02804900e+06, 8.08429434e+09],\n",
       "       [1.00000000e+00, 2.00800000e+03, 4.03206400e+06, 8.09638451e+09],\n",
       "       [1.00000000e+00, 2.00900000e+03, 4.03608100e+06, 8.10848673e+09],\n",
       "       [1.00000000e+00, 2.01000000e+03, 4.04010000e+06, 8.12060100e+09],\n",
       "       [1.00000000e+00, 2.01100000e+03, 4.04412100e+06, 8.13272733e+09],\n",
       "       [1.00000000e+00, 2.01200000e+03, 4.04814400e+06, 8.14486573e+09],\n",
       "       [1.00000000e+00, 2.01300000e+03, 4.05216900e+06, 8.15701620e+09],\n",
       "       [1.00000000e+00, 2.01400000e+03, 4.05619600e+06, 8.16917874e+09],\n",
       "       [1.00000000e+00, 2.01500000e+03, 4.06022500e+06, 8.18135338e+09],\n",
       "       [1.00000000e+00, 2.01600000e+03, 4.06425600e+06, 8.19354010e+09],\n",
       "       [1.00000000e+00, 2.01700000e+03, 4.06828900e+06, 8.20573891e+09],\n",
       "       [1.00000000e+00, 2.01800000e+03, 4.07232400e+06, 8.21794983e+09],\n",
       "       [1.00000000e+00, 2.01900000e+03, 4.07636100e+06, 8.23017286e+09]])"
      ]
     },
     "execution_count": 84,
     "metadata": {},
     "output_type": "execute_result"
    }
   ],
   "source": [
    "x_poly"
   ]
  },
  {
   "cell_type": "code",
   "execution_count": 85,
   "metadata": {},
   "outputs": [],
   "source": [
    "lin_reg2=LinearRegression().fit(x_poly, y)"
   ]
  },
  {
   "cell_type": "code",
   "execution_count": 86,
   "metadata": {},
   "outputs": [
    {
     "name": "stdout",
     "output_type": "stream",
     "text": [
      "coefficient of determination: r_sq= 0.9874267477581974\n"
     ]
    }
   ],
   "source": [
    "r_sq = lin_reg2.score(x_poly, y)\n",
    "print('coefficient of determination: r_sq=', r_sq)"
   ]
  },
  {
   "cell_type": "code",
   "execution_count": 88,
   "metadata": {},
   "outputs": [
    {
     "data": {
      "image/png": "[encoded data removed]",
      "text/plain": [
       "<Figure size 432x288 with 1 Axes>"
      ]
     },
     "metadata": {
      "needs_background": "light"
     },
     "output_type": "display_data"
    }
   ],
   "source": [
    "plt.scatter(x, y, color='red')\n",
    "plt.plot(x, lin_reg2.predict(poly_reg.fit_transform(x)), color='blue')\n",
    "plt.title('Past GDP OF Pakistan')  \n",
    "plt.xlabel('Year')  \n",
    "plt.ylabel('GDP')  \n",
    "plt.show()"
   ]
  },
  {
   "cell_type": "code",
   "execution_count": 91,
   "metadata": {},
   "outputs": [
    {
     "name": "stdout",
     "output_type": "stream",
     "text": [
      "[[1960]\n",
      " [1961]\n",
      " [2020]\n",
      " [2021]\n",
      " [2022]\n",
      " [2023]\n",
      " [2024]\n",
      " [2025]]\n"
     ]
    }
   ],
   "source": [
    "x_new=np.array([1960, 1961, 2020, 2021, 2022, 2023, 2024, 2025]).reshape((-1, 1))\n",
    "print(x_new)"
   ]
  },
  {
   "cell_type": "code",
   "execution_count": 92,
   "metadata": {},
   "outputs": [
    {
     "name": "stdout",
     "output_type": "stream",
     "text": [
      "[4.55598231e-01 2.17274309e+00 3.58905027e+02 3.79853328e+02\n",
      " 4.01650789e+02 4.24314743e+02 4.47862523e+02 4.72311461e+02]\n"
     ]
    }
   ],
   "source": [
    "y_new=lin_reg2.predict(poly_reg.fit_transform(x_new))\n",
    "print(y_new)"
   ]
  },
  {
   "cell_type": "code",
   "execution_count": null,
   "metadata": {},
   "outputs": [],
   "source": []
  },
  {
   "cell_type": "code",
   "execution_count": null,
   "metadata": {},
   "outputs": [],
   "source": []
  },
  {
   "cell_type": "code",
   "execution_count": null,
   "metadata": {},
   "outputs": [],
   "source": []
  },
  {
   "cell_type": "code",
   "execution_count": null,
   "metadata": {},
   "outputs": [],
   "source": []
  },
  {
   "cell_type": "code",
   "execution_count": null,
   "metadata": {},
   "outputs": [],
   "source": []
  },
  {
   "cell_type": "code",
   "execution_count": null,
   "metadata": {},
   "outputs": [],
   "source": []
  },
  {
   "cell_type": "code",
   "execution_count": null,
   "metadata": {},
   "outputs": [],
   "source": []
  },
  {
   "cell_type": "code",
   "execution_count": null,
   "metadata": {},
   "outputs": [],
   "source": []
  },
  {
   "cell_type": "code",
   "execution_count": null,
   "metadata": {},
   "outputs": [],
   "source": []
  },
  {
   "cell_type": "code",
   "execution_count": null,
   "metadata": {},
   "outputs": [],
   "source": []
  },
  {
   "cell_type": "code",
   "execution_count": null,
   "metadata": {},
   "outputs": [],
   "source": []
  },
  {
   "cell_type": "code",
   "execution_count": null,
   "metadata": {},
   "outputs": [],
   "source": []
  },
  {
   "cell_type": "code",
   "execution_count": null,
   "metadata": {},
   "outputs": [],
   "source": []
  },
  {
   "cell_type": "code",
   "execution_count": null,
   "metadata": {},
   "outputs": [],
   "source": []
  },
  {
   "cell_type": "code",
   "execution_count": null,
   "metadata": {},
   "outputs": [],
   "source": []
  },
  {
   "cell_type": "code",
   "execution_count": null,
   "metadata": {},
   "outputs": [],
   "source": []
  },
  {
   "cell_type": "code",
   "execution_count": null,
   "metadata": {},
   "outputs": [],
   "source": []
  },
  {
   "cell_type": "code",
   "execution_count": null,
   "metadata": {},
   "outputs": [],
   "source": []
  },
  {
   "cell_type": "code",
   "execution_count": null,
   "metadata": {},
   "outputs": [],
   "source": []
  },
  {
   "cell_type": "code",
   "execution_count": null,
   "metadata": {},
   "outputs": [],
   "source": []
  },
  {
   "cell_type": "code",
   "execution_count": null,
   "metadata": {},
   "outputs": [],
   "source": []
  }
 ],
 "metadata": {
  "kernelspec": {
   "display_name": "Python 3",
   "language": "python",
   "name": "python3"
  },
  "language_info": {
   "codemirror_mode": {
    "name": "ipython",
    "version": 3
   },
   "file_extension": ".py",
   "mimetype": "text/x-python",
   "name": "python",
   "nbconvert_exporter": "python",
   "pygments_lexer": "ipython3",
   "version": "3.7.5"
  }
 },
 "nbformat": 4,
 "nbformat_minor": 2
}
